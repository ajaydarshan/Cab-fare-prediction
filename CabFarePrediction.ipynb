{
 "cells": [
  {
   "cell_type": "code",
   "execution_count": 2,
   "metadata": {},
   "outputs": [
    {
     "name": "stderr",
     "output_type": "stream",
     "text": [
      "C:\\Users\\Ajay\\Anaconda3\\lib\\site-packages\\h5py\\__init__.py:36: FutureWarning: Conversion of the second argument of issubdtype from `float` to `np.floating` is deprecated. In future, it will be treated as `np.float64 == np.dtype(float).type`.\n",
      "  from ._conv import register_converters as _register_converters\n",
      "Using TensorFlow backend.\n"
     ]
    }
   ],
   "source": [
    "import os\n",
    "import sys\n",
    "import numpy as np\n",
    "import pandas as pd\n",
    "from datetime import datetime\n",
    "from fancyimpute import KNN\n",
    "import seaborn as sns\n",
    "import matplotlib.pyplot as plt\n",
    "%matplotlib inline"
   ]
  },
  {
   "cell_type": "code",
   "execution_count": 3,
   "metadata": {},
   "outputs": [],
   "source": [
    "os.chdir(os.curdir)"
   ]
  },
  {
   "cell_type": "code",
   "execution_count": 4,
   "metadata": {},
   "outputs": [],
   "source": [
    "df = pd.read_csv(\"train_cab.csv\")\n",
    "\n",
    "#Load test set and apply same feature engineering techniques parallely\n",
    "test = pd.read_csv(\"test.csv\")"
   ]
  },
  {
   "cell_type": "code",
   "execution_count": 5,
   "metadata": {},
   "outputs": [],
   "source": [
    "#save pickup_datetime of test for results\n",
    "test_pickup_datetime = test[\"pickup_datetime\"]"
   ]
  },
  {
   "cell_type": "code",
   "execution_count": 6,
   "metadata": {},
   "outputs": [
    {
     "data": {
      "text/html": [
       "<div>\n",
       "<style scoped>\n",
       "    .dataframe tbody tr th:only-of-type {\n",
       "        vertical-align: middle;\n",
       "    }\n",
       "\n",
       "    .dataframe tbody tr th {\n",
       "        vertical-align: top;\n",
       "    }\n",
       "\n",
       "    .dataframe thead th {\n",
       "        text-align: right;\n",
       "    }\n",
       "</style>\n",
       "<table border=\"1\" class=\"dataframe\">\n",
       "  <thead>\n",
       "    <tr style=\"text-align: right;\">\n",
       "      <th></th>\n",
       "      <th>fare_amount</th>\n",
       "      <th>pickup_datetime</th>\n",
       "      <th>pickup_longitude</th>\n",
       "      <th>pickup_latitude</th>\n",
       "      <th>dropoff_longitude</th>\n",
       "      <th>dropoff_latitude</th>\n",
       "      <th>passenger_count</th>\n",
       "    </tr>\n",
       "  </thead>\n",
       "  <tbody>\n",
       "    <tr>\n",
       "      <th>0</th>\n",
       "      <td>4.5</td>\n",
       "      <td>2009-06-15 17:26:21 UTC</td>\n",
       "      <td>-73.844311</td>\n",
       "      <td>40.721319</td>\n",
       "      <td>-73.841610</td>\n",
       "      <td>40.712278</td>\n",
       "      <td>1.0</td>\n",
       "    </tr>\n",
       "    <tr>\n",
       "      <th>1</th>\n",
       "      <td>16.9</td>\n",
       "      <td>2010-01-05 16:52:16 UTC</td>\n",
       "      <td>-74.016048</td>\n",
       "      <td>40.711303</td>\n",
       "      <td>-73.979268</td>\n",
       "      <td>40.782004</td>\n",
       "      <td>1.0</td>\n",
       "    </tr>\n",
       "    <tr>\n",
       "      <th>2</th>\n",
       "      <td>5.7</td>\n",
       "      <td>2011-08-18 00:35:00 UTC</td>\n",
       "      <td>-73.982738</td>\n",
       "      <td>40.761270</td>\n",
       "      <td>-73.991242</td>\n",
       "      <td>40.750562</td>\n",
       "      <td>2.0</td>\n",
       "    </tr>\n",
       "    <tr>\n",
       "      <th>3</th>\n",
       "      <td>7.7</td>\n",
       "      <td>2012-04-21 04:30:42 UTC</td>\n",
       "      <td>-73.987130</td>\n",
       "      <td>40.733143</td>\n",
       "      <td>-73.991567</td>\n",
       "      <td>40.758092</td>\n",
       "      <td>1.0</td>\n",
       "    </tr>\n",
       "    <tr>\n",
       "      <th>4</th>\n",
       "      <td>5.3</td>\n",
       "      <td>2010-03-09 07:51:00 UTC</td>\n",
       "      <td>-73.968095</td>\n",
       "      <td>40.768008</td>\n",
       "      <td>-73.956655</td>\n",
       "      <td>40.783762</td>\n",
       "      <td>1.0</td>\n",
       "    </tr>\n",
       "  </tbody>\n",
       "</table>\n",
       "</div>"
      ],
      "text/plain": [
       "  fare_amount          pickup_datetime  pickup_longitude  pickup_latitude  \\\n",
       "0         4.5  2009-06-15 17:26:21 UTC        -73.844311        40.721319   \n",
       "1        16.9  2010-01-05 16:52:16 UTC        -74.016048        40.711303   \n",
       "2         5.7  2011-08-18 00:35:00 UTC        -73.982738        40.761270   \n",
       "3         7.7  2012-04-21 04:30:42 UTC        -73.987130        40.733143   \n",
       "4         5.3  2010-03-09 07:51:00 UTC        -73.968095        40.768008   \n",
       "\n",
       "   dropoff_longitude  dropoff_latitude  passenger_count  \n",
       "0         -73.841610         40.712278              1.0  \n",
       "1         -73.979268         40.782004              1.0  \n",
       "2         -73.991242         40.750562              2.0  \n",
       "3         -73.991567         40.758092              1.0  \n",
       "4         -73.956655         40.783762              1.0  "
      ]
     },
     "execution_count": 6,
     "metadata": {},
     "output_type": "execute_result"
    }
   ],
   "source": [
    "df.head()"
   ]
  },
  {
   "cell_type": "code",
   "execution_count": 7,
   "metadata": {
    "scrolled": true
   },
   "outputs": [
    {
     "data": {
      "text/html": [
       "<div>\n",
       "<style scoped>\n",
       "    .dataframe tbody tr th:only-of-type {\n",
       "        vertical-align: middle;\n",
       "    }\n",
       "\n",
       "    .dataframe tbody tr th {\n",
       "        vertical-align: top;\n",
       "    }\n",
       "\n",
       "    .dataframe thead th {\n",
       "        text-align: right;\n",
       "    }\n",
       "</style>\n",
       "<table border=\"1\" class=\"dataframe\">\n",
       "  <thead>\n",
       "    <tr style=\"text-align: right;\">\n",
       "      <th></th>\n",
       "      <th>pickup_datetime</th>\n",
       "      <th>pickup_longitude</th>\n",
       "      <th>pickup_latitude</th>\n",
       "      <th>dropoff_longitude</th>\n",
       "      <th>dropoff_latitude</th>\n",
       "      <th>passenger_count</th>\n",
       "    </tr>\n",
       "  </thead>\n",
       "  <tbody>\n",
       "    <tr>\n",
       "      <th>0</th>\n",
       "      <td>2015-01-27 13:08:24 UTC</td>\n",
       "      <td>-73.973320</td>\n",
       "      <td>40.763805</td>\n",
       "      <td>-73.981430</td>\n",
       "      <td>40.743835</td>\n",
       "      <td>1</td>\n",
       "    </tr>\n",
       "    <tr>\n",
       "      <th>1</th>\n",
       "      <td>2015-01-27 13:08:24 UTC</td>\n",
       "      <td>-73.986862</td>\n",
       "      <td>40.719383</td>\n",
       "      <td>-73.998886</td>\n",
       "      <td>40.739201</td>\n",
       "      <td>1</td>\n",
       "    </tr>\n",
       "    <tr>\n",
       "      <th>2</th>\n",
       "      <td>2011-10-08 11:53:44 UTC</td>\n",
       "      <td>-73.982524</td>\n",
       "      <td>40.751260</td>\n",
       "      <td>-73.979654</td>\n",
       "      <td>40.746139</td>\n",
       "      <td>1</td>\n",
       "    </tr>\n",
       "    <tr>\n",
       "      <th>3</th>\n",
       "      <td>2012-12-01 21:12:12 UTC</td>\n",
       "      <td>-73.981160</td>\n",
       "      <td>40.767807</td>\n",
       "      <td>-73.990448</td>\n",
       "      <td>40.751635</td>\n",
       "      <td>1</td>\n",
       "    </tr>\n",
       "    <tr>\n",
       "      <th>4</th>\n",
       "      <td>2012-12-01 21:12:12 UTC</td>\n",
       "      <td>-73.966046</td>\n",
       "      <td>40.789775</td>\n",
       "      <td>-73.988565</td>\n",
       "      <td>40.744427</td>\n",
       "      <td>1</td>\n",
       "    </tr>\n",
       "  </tbody>\n",
       "</table>\n",
       "</div>"
      ],
      "text/plain": [
       "           pickup_datetime  pickup_longitude  pickup_latitude  \\\n",
       "0  2015-01-27 13:08:24 UTC        -73.973320        40.763805   \n",
       "1  2015-01-27 13:08:24 UTC        -73.986862        40.719383   \n",
       "2  2011-10-08 11:53:44 UTC        -73.982524        40.751260   \n",
       "3  2012-12-01 21:12:12 UTC        -73.981160        40.767807   \n",
       "4  2012-12-01 21:12:12 UTC        -73.966046        40.789775   \n",
       "\n",
       "   dropoff_longitude  dropoff_latitude  passenger_count  \n",
       "0         -73.981430         40.743835                1  \n",
       "1         -73.998886         40.739201                1  \n",
       "2         -73.979654         40.746139                1  \n",
       "3         -73.990448         40.751635                1  \n",
       "4         -73.988565         40.744427                1  "
      ]
     },
     "execution_count": 7,
     "metadata": {},
     "output_type": "execute_result"
    }
   ],
   "source": [
    "test.head()"
   ]
  },
  {
   "cell_type": "code",
   "execution_count": 8,
   "metadata": {},
   "outputs": [
    {
     "data": {
      "text/plain": [
       "pickup_datetime       object\n",
       "pickup_longitude     float64\n",
       "pickup_latitude      float64\n",
       "dropoff_longitude    float64\n",
       "dropoff_latitude     float64\n",
       "passenger_count        int64\n",
       "dtype: object"
      ]
     },
     "execution_count": 8,
     "metadata": {},
     "output_type": "execute_result"
    }
   ],
   "source": [
    "test.dtypes"
   ]
  },
  {
   "cell_type": "code",
   "execution_count": 9,
   "metadata": {},
   "outputs": [
    {
     "data": {
      "text/plain": [
       "(16067, 7)"
      ]
     },
     "execution_count": 9,
     "metadata": {},
     "output_type": "execute_result"
    }
   ],
   "source": [
    "df.shape"
   ]
  },
  {
   "cell_type": "code",
   "execution_count": 10,
   "metadata": {},
   "outputs": [
    {
     "name": "stdout",
     "output_type": "stream",
     "text": [
      "<class 'pandas.core.frame.DataFrame'>\n",
      "RangeIndex: 16067 entries, 0 to 16066\n",
      "Data columns (total 7 columns):\n",
      "fare_amount          16043 non-null object\n",
      "pickup_datetime      16067 non-null object\n",
      "pickup_longitude     16067 non-null float64\n",
      "pickup_latitude      16067 non-null float64\n",
      "dropoff_longitude    16067 non-null float64\n",
      "dropoff_latitude     16067 non-null float64\n",
      "passenger_count      16012 non-null float64\n",
      "dtypes: float64(5), object(2)\n",
      "memory usage: 878.7+ KB\n"
     ]
    }
   ],
   "source": [
    "df.info()"
   ]
  },
  {
   "cell_type": "code",
   "execution_count": 11,
   "metadata": {},
   "outputs": [
    {
     "data": {
      "text/html": [
       "<div>\n",
       "<style scoped>\n",
       "    .dataframe tbody tr th:only-of-type {\n",
       "        vertical-align: middle;\n",
       "    }\n",
       "\n",
       "    .dataframe tbody tr th {\n",
       "        vertical-align: top;\n",
       "    }\n",
       "\n",
       "    .dataframe thead th {\n",
       "        text-align: right;\n",
       "    }\n",
       "</style>\n",
       "<table border=\"1\" class=\"dataframe\">\n",
       "  <thead>\n",
       "    <tr style=\"text-align: right;\">\n",
       "      <th></th>\n",
       "      <th>pickup_longitude</th>\n",
       "      <th>pickup_latitude</th>\n",
       "      <th>dropoff_longitude</th>\n",
       "      <th>dropoff_latitude</th>\n",
       "      <th>passenger_count</th>\n",
       "    </tr>\n",
       "  </thead>\n",
       "  <tbody>\n",
       "    <tr>\n",
       "      <th>count</th>\n",
       "      <td>16067.000000</td>\n",
       "      <td>16067.000000</td>\n",
       "      <td>16067.000000</td>\n",
       "      <td>16067.000000</td>\n",
       "      <td>16012.000000</td>\n",
       "    </tr>\n",
       "    <tr>\n",
       "      <th>mean</th>\n",
       "      <td>-72.462787</td>\n",
       "      <td>39.914725</td>\n",
       "      <td>-72.462328</td>\n",
       "      <td>39.897906</td>\n",
       "      <td>2.625070</td>\n",
       "    </tr>\n",
       "    <tr>\n",
       "      <th>std</th>\n",
       "      <td>10.578384</td>\n",
       "      <td>6.826587</td>\n",
       "      <td>10.575062</td>\n",
       "      <td>6.187087</td>\n",
       "      <td>60.844122</td>\n",
       "    </tr>\n",
       "    <tr>\n",
       "      <th>min</th>\n",
       "      <td>-74.438233</td>\n",
       "      <td>-74.006893</td>\n",
       "      <td>-74.429332</td>\n",
       "      <td>-74.006377</td>\n",
       "      <td>0.000000</td>\n",
       "    </tr>\n",
       "    <tr>\n",
       "      <th>25%</th>\n",
       "      <td>-73.992156</td>\n",
       "      <td>40.734927</td>\n",
       "      <td>-73.991182</td>\n",
       "      <td>40.734651</td>\n",
       "      <td>1.000000</td>\n",
       "    </tr>\n",
       "    <tr>\n",
       "      <th>50%</th>\n",
       "      <td>-73.981698</td>\n",
       "      <td>40.752603</td>\n",
       "      <td>-73.980172</td>\n",
       "      <td>40.753567</td>\n",
       "      <td>1.000000</td>\n",
       "    </tr>\n",
       "    <tr>\n",
       "      <th>75%</th>\n",
       "      <td>-73.966838</td>\n",
       "      <td>40.767381</td>\n",
       "      <td>-73.963643</td>\n",
       "      <td>40.768013</td>\n",
       "      <td>2.000000</td>\n",
       "    </tr>\n",
       "    <tr>\n",
       "      <th>max</th>\n",
       "      <td>40.766125</td>\n",
       "      <td>401.083332</td>\n",
       "      <td>40.802437</td>\n",
       "      <td>41.366138</td>\n",
       "      <td>5345.000000</td>\n",
       "    </tr>\n",
       "  </tbody>\n",
       "</table>\n",
       "</div>"
      ],
      "text/plain": [
       "       pickup_longitude  pickup_latitude  dropoff_longitude  dropoff_latitude  \\\n",
       "count      16067.000000     16067.000000       16067.000000      16067.000000   \n",
       "mean         -72.462787        39.914725         -72.462328         39.897906   \n",
       "std           10.578384         6.826587          10.575062          6.187087   \n",
       "min          -74.438233       -74.006893         -74.429332        -74.006377   \n",
       "25%          -73.992156        40.734927         -73.991182         40.734651   \n",
       "50%          -73.981698        40.752603         -73.980172         40.753567   \n",
       "75%          -73.966838        40.767381         -73.963643         40.768013   \n",
       "max           40.766125       401.083332          40.802437         41.366138   \n",
       "\n",
       "       passenger_count  \n",
       "count     16012.000000  \n",
       "mean          2.625070  \n",
       "std          60.844122  \n",
       "min           0.000000  \n",
       "25%           1.000000  \n",
       "50%           1.000000  \n",
       "75%           2.000000  \n",
       "max        5345.000000  "
      ]
     },
     "execution_count": 11,
     "metadata": {},
     "output_type": "execute_result"
    }
   ],
   "source": [
    "df.describe()"
   ]
  },
  {
   "cell_type": "code",
   "execution_count": 12,
   "metadata": {},
   "outputs": [
    {
     "data": {
      "text/plain": [
       "fare_amount           object\n",
       "pickup_datetime       object\n",
       "pickup_longitude     float64\n",
       "pickup_latitude      float64\n",
       "dropoff_longitude    float64\n",
       "dropoff_latitude     float64\n",
       "passenger_count      float64\n",
       "dtype: object"
      ]
     },
     "execution_count": 12,
     "metadata": {},
     "output_type": "execute_result"
    }
   ],
   "source": [
    "df.dtypes"
   ]
  },
  {
   "cell_type": "code",
   "execution_count": 13,
   "metadata": {},
   "outputs": [
    {
     "data": {
      "text/plain": [
       "fare_amount          24\n",
       "pickup_datetime       0\n",
       "pickup_longitude      0\n",
       "pickup_latitude       0\n",
       "dropoff_longitude     0\n",
       "dropoff_latitude      0\n",
       "passenger_count      55\n",
       "dtype: int64"
      ]
     },
     "execution_count": 13,
     "metadata": {},
     "output_type": "execute_result"
    }
   ],
   "source": [
    "df.isnull().sum()"
   ]
  },
  {
   "cell_type": "markdown",
   "metadata": {},
   "source": [
    "# Exploratory Analysis"
   ]
  },
  {
   "cell_type": "code",
   "execution_count": 14,
   "metadata": {},
   "outputs": [],
   "source": [
    "#Convert fare_amount from object to numeric\n",
    "df[\"fare_amount\"] = pd.to_numeric(df[\"fare_amount\"],errors = \"coerce\")"
   ]
  },
  {
   "cell_type": "code",
   "execution_count": 15,
   "metadata": {},
   "outputs": [
    {
     "data": {
      "text/html": [
       "<div>\n",
       "<style scoped>\n",
       "    .dataframe tbody tr th:only-of-type {\n",
       "        vertical-align: middle;\n",
       "    }\n",
       "\n",
       "    .dataframe tbody tr th {\n",
       "        vertical-align: top;\n",
       "    }\n",
       "\n",
       "    .dataframe thead th {\n",
       "        text-align: right;\n",
       "    }\n",
       "</style>\n",
       "<table border=\"1\" class=\"dataframe\">\n",
       "  <thead>\n",
       "    <tr style=\"text-align: right;\">\n",
       "      <th></th>\n",
       "      <th>fare_amount</th>\n",
       "      <th>pickup_longitude</th>\n",
       "      <th>pickup_latitude</th>\n",
       "      <th>dropoff_longitude</th>\n",
       "      <th>dropoff_latitude</th>\n",
       "      <th>passenger_count</th>\n",
       "    </tr>\n",
       "  </thead>\n",
       "  <tbody>\n",
       "    <tr>\n",
       "      <th>count</th>\n",
       "      <td>16042.000000</td>\n",
       "      <td>16067.000000</td>\n",
       "      <td>16067.000000</td>\n",
       "      <td>16067.000000</td>\n",
       "      <td>16067.000000</td>\n",
       "      <td>16012.000000</td>\n",
       "    </tr>\n",
       "    <tr>\n",
       "      <th>mean</th>\n",
       "      <td>15.015004</td>\n",
       "      <td>-72.462787</td>\n",
       "      <td>39.914725</td>\n",
       "      <td>-72.462328</td>\n",
       "      <td>39.897906</td>\n",
       "      <td>2.625070</td>\n",
       "    </tr>\n",
       "    <tr>\n",
       "      <th>std</th>\n",
       "      <td>430.460945</td>\n",
       "      <td>10.578384</td>\n",
       "      <td>6.826587</td>\n",
       "      <td>10.575062</td>\n",
       "      <td>6.187087</td>\n",
       "      <td>60.844122</td>\n",
       "    </tr>\n",
       "    <tr>\n",
       "      <th>min</th>\n",
       "      <td>-3.000000</td>\n",
       "      <td>-74.438233</td>\n",
       "      <td>-74.006893</td>\n",
       "      <td>-74.429332</td>\n",
       "      <td>-74.006377</td>\n",
       "      <td>0.000000</td>\n",
       "    </tr>\n",
       "    <tr>\n",
       "      <th>25%</th>\n",
       "      <td>6.000000</td>\n",
       "      <td>-73.992156</td>\n",
       "      <td>40.734927</td>\n",
       "      <td>-73.991182</td>\n",
       "      <td>40.734651</td>\n",
       "      <td>1.000000</td>\n",
       "    </tr>\n",
       "    <tr>\n",
       "      <th>50%</th>\n",
       "      <td>8.500000</td>\n",
       "      <td>-73.981698</td>\n",
       "      <td>40.752603</td>\n",
       "      <td>-73.980172</td>\n",
       "      <td>40.753567</td>\n",
       "      <td>1.000000</td>\n",
       "    </tr>\n",
       "    <tr>\n",
       "      <th>75%</th>\n",
       "      <td>12.500000</td>\n",
       "      <td>-73.966838</td>\n",
       "      <td>40.767381</td>\n",
       "      <td>-73.963643</td>\n",
       "      <td>40.768013</td>\n",
       "      <td>2.000000</td>\n",
       "    </tr>\n",
       "    <tr>\n",
       "      <th>max</th>\n",
       "      <td>54343.000000</td>\n",
       "      <td>40.766125</td>\n",
       "      <td>401.083332</td>\n",
       "      <td>40.802437</td>\n",
       "      <td>41.366138</td>\n",
       "      <td>5345.000000</td>\n",
       "    </tr>\n",
       "  </tbody>\n",
       "</table>\n",
       "</div>"
      ],
      "text/plain": [
       "        fare_amount  pickup_longitude  pickup_latitude  dropoff_longitude  \\\n",
       "count  16042.000000      16067.000000     16067.000000       16067.000000   \n",
       "mean      15.015004        -72.462787        39.914725         -72.462328   \n",
       "std      430.460945         10.578384         6.826587          10.575062   \n",
       "min       -3.000000        -74.438233       -74.006893         -74.429332   \n",
       "25%        6.000000        -73.992156        40.734927         -73.991182   \n",
       "50%        8.500000        -73.981698        40.752603         -73.980172   \n",
       "75%       12.500000        -73.966838        40.767381         -73.963643   \n",
       "max    54343.000000         40.766125       401.083332          40.802437   \n",
       "\n",
       "       dropoff_latitude  passenger_count  \n",
       "count      16067.000000     16012.000000  \n",
       "mean          39.897906         2.625070  \n",
       "std            6.187087        60.844122  \n",
       "min          -74.006377         0.000000  \n",
       "25%           40.734651         1.000000  \n",
       "50%           40.753567         1.000000  \n",
       "75%           40.768013         2.000000  \n",
       "max           41.366138      5345.000000  "
      ]
     },
     "execution_count": 15,
     "metadata": {},
     "output_type": "execute_result"
    }
   ],
   "source": [
    "df.describe()"
   ]
  },
  {
   "cell_type": "code",
   "execution_count": 16,
   "metadata": {},
   "outputs": [],
   "source": [
    "#remove rows having fractional passenger count and 0 count and greater than 10 passengers\n",
    "df = df[df[\"passenger_count\"] > 0]\n",
    "df = df[df[\"passenger_count\"] <= 10]\n",
    "df = df[df[\"passenger_count\"] % 1 == 0]"
   ]
  },
  {
   "cell_type": "code",
   "execution_count": 17,
   "metadata": {},
   "outputs": [
    {
     "data": {
      "text/plain": [
       "(15933, 7)"
      ]
     },
     "execution_count": 17,
     "metadata": {},
     "output_type": "execute_result"
    }
   ],
   "source": [
    "df.shape"
   ]
  },
  {
   "cell_type": "code",
   "execution_count": 18,
   "metadata": {},
   "outputs": [
    {
     "data": {
      "text/plain": [
       "fare_amount          24\n",
       "pickup_datetime       0\n",
       "pickup_longitude      0\n",
       "pickup_latitude       0\n",
       "dropoff_longitude     0\n",
       "dropoff_latitude      0\n",
       "passenger_count       0\n",
       "dtype: int64"
      ]
     },
     "execution_count": 18,
     "metadata": {},
     "output_type": "execute_result"
    }
   ],
   "source": [
    "df.isnull().sum()"
   ]
  },
  {
   "cell_type": "code",
   "execution_count": 19,
   "metadata": {},
   "outputs": [
    {
     "data": {
      "text/plain": [
       "(15933, 7)"
      ]
     },
     "execution_count": 19,
     "metadata": {},
     "output_type": "execute_result"
    }
   ],
   "source": [
    "df.shape"
   ]
  },
  {
   "cell_type": "code",
   "execution_count": 20,
   "metadata": {},
   "outputs": [],
   "source": [
    "df[\"pickup_datetime\"] = pd.to_datetime(df[\"pickup_datetime\"],errors = \"coerce\")\n",
    "\n",
    "#Apply same for test set\n",
    "test[\"pickup_datetime\"] = pd.to_datetime(test[\"pickup_datetime\"],errors = \"coerce\")"
   ]
  },
  {
   "cell_type": "code",
   "execution_count": 21,
   "metadata": {},
   "outputs": [
    {
     "data": {
      "text/html": [
       "<div>\n",
       "<style scoped>\n",
       "    .dataframe tbody tr th:only-of-type {\n",
       "        vertical-align: middle;\n",
       "    }\n",
       "\n",
       "    .dataframe tbody tr th {\n",
       "        vertical-align: top;\n",
       "    }\n",
       "\n",
       "    .dataframe thead th {\n",
       "        text-align: right;\n",
       "    }\n",
       "</style>\n",
       "<table border=\"1\" class=\"dataframe\">\n",
       "  <thead>\n",
       "    <tr style=\"text-align: right;\">\n",
       "      <th></th>\n",
       "      <th>fare_amount</th>\n",
       "      <th>pickup_datetime</th>\n",
       "      <th>pickup_longitude</th>\n",
       "      <th>pickup_latitude</th>\n",
       "      <th>dropoff_longitude</th>\n",
       "      <th>dropoff_latitude</th>\n",
       "      <th>passenger_count</th>\n",
       "    </tr>\n",
       "  </thead>\n",
       "  <tbody>\n",
       "    <tr>\n",
       "      <th>0</th>\n",
       "      <td>4.5</td>\n",
       "      <td>2009-06-15 17:26:21</td>\n",
       "      <td>-73.844311</td>\n",
       "      <td>40.721319</td>\n",
       "      <td>-73.841610</td>\n",
       "      <td>40.712278</td>\n",
       "      <td>1.0</td>\n",
       "    </tr>\n",
       "    <tr>\n",
       "      <th>1</th>\n",
       "      <td>16.9</td>\n",
       "      <td>2010-01-05 16:52:16</td>\n",
       "      <td>-74.016048</td>\n",
       "      <td>40.711303</td>\n",
       "      <td>-73.979268</td>\n",
       "      <td>40.782004</td>\n",
       "      <td>1.0</td>\n",
       "    </tr>\n",
       "    <tr>\n",
       "      <th>2</th>\n",
       "      <td>5.7</td>\n",
       "      <td>2011-08-18 00:35:00</td>\n",
       "      <td>-73.982738</td>\n",
       "      <td>40.761270</td>\n",
       "      <td>-73.991242</td>\n",
       "      <td>40.750562</td>\n",
       "      <td>2.0</td>\n",
       "    </tr>\n",
       "    <tr>\n",
       "      <th>3</th>\n",
       "      <td>7.7</td>\n",
       "      <td>2012-04-21 04:30:42</td>\n",
       "      <td>-73.987130</td>\n",
       "      <td>40.733143</td>\n",
       "      <td>-73.991567</td>\n",
       "      <td>40.758092</td>\n",
       "      <td>1.0</td>\n",
       "    </tr>\n",
       "    <tr>\n",
       "      <th>4</th>\n",
       "      <td>5.3</td>\n",
       "      <td>2010-03-09 07:51:00</td>\n",
       "      <td>-73.968095</td>\n",
       "      <td>40.768008</td>\n",
       "      <td>-73.956655</td>\n",
       "      <td>40.783762</td>\n",
       "      <td>1.0</td>\n",
       "    </tr>\n",
       "  </tbody>\n",
       "</table>\n",
       "</div>"
      ],
      "text/plain": [
       "   fare_amount     pickup_datetime  pickup_longitude  pickup_latitude  \\\n",
       "0          4.5 2009-06-15 17:26:21        -73.844311        40.721319   \n",
       "1         16.9 2010-01-05 16:52:16        -74.016048        40.711303   \n",
       "2          5.7 2011-08-18 00:35:00        -73.982738        40.761270   \n",
       "3          7.7 2012-04-21 04:30:42        -73.987130        40.733143   \n",
       "4          5.3 2010-03-09 07:51:00        -73.968095        40.768008   \n",
       "\n",
       "   dropoff_longitude  dropoff_latitude  passenger_count  \n",
       "0         -73.841610         40.712278              1.0  \n",
       "1         -73.979268         40.782004              1.0  \n",
       "2         -73.991242         40.750562              2.0  \n",
       "3         -73.991567         40.758092              1.0  \n",
       "4         -73.956655         40.783762              1.0  "
      ]
     },
     "execution_count": 21,
     "metadata": {},
     "output_type": "execute_result"
    }
   ],
   "source": [
    "df.head()"
   ]
  },
  {
   "cell_type": "code",
   "execution_count": 22,
   "metadata": {},
   "outputs": [
    {
     "data": {
      "text/plain": [
       "fare_amount                 float64\n",
       "pickup_datetime      datetime64[ns]\n",
       "pickup_longitude            float64\n",
       "pickup_latitude             float64\n",
       "dropoff_longitude           float64\n",
       "dropoff_latitude            float64\n",
       "passenger_count             float64\n",
       "dtype: object"
      ]
     },
     "execution_count": 22,
     "metadata": {},
     "output_type": "execute_result"
    }
   ],
   "source": [
    "df.dtypes"
   ]
  },
  {
   "cell_type": "code",
   "execution_count": 23,
   "metadata": {},
   "outputs": [],
   "source": [
    "df[\"pickup_hour\"] = pd.Categorical(df[\"pickup_datetime\"].dt.strftime(\"%H\"))\n",
    "df[\"pickup_month\"] = pd.Categorical(df[\"pickup_datetime\"].dt.strftime(\"%m\"))\n",
    "df[\"pickup_weekday\"] = pd.Categorical(df[\"pickup_datetime\"].dt.strftime(\"%u\"))\n",
    "df[\"pickup_year\"] = pd.Categorical(df[\"pickup_datetime\"].dt.strftime(\"%Y\"))\n",
    "\n",
    "#Add same features to test\n",
    "test[\"pickup_hour\"] = pd.Categorical(test[\"pickup_datetime\"].dt.strftime(\"%H\"))\n",
    "test[\"pickup_month\"] = pd.Categorical(test[\"pickup_datetime\"].dt.strftime(\"%m\"))\n",
    "test[\"pickup_weekday\"] = pd.Categorical(test[\"pickup_datetime\"].dt.strftime(\"%u\"))\n",
    "test[\"pickup_year\"] = pd.Categorical(test[\"pickup_datetime\"].dt.strftime(\"%Y\"))"
   ]
  },
  {
   "cell_type": "code",
   "execution_count": 24,
   "metadata": {},
   "outputs": [
    {
     "data": {
      "text/html": [
       "<div>\n",
       "<style scoped>\n",
       "    .dataframe tbody tr th:only-of-type {\n",
       "        vertical-align: middle;\n",
       "    }\n",
       "\n",
       "    .dataframe tbody tr th {\n",
       "        vertical-align: top;\n",
       "    }\n",
       "\n",
       "    .dataframe thead th {\n",
       "        text-align: right;\n",
       "    }\n",
       "</style>\n",
       "<table border=\"1\" class=\"dataframe\">\n",
       "  <thead>\n",
       "    <tr style=\"text-align: right;\">\n",
       "      <th></th>\n",
       "      <th>fare_amount</th>\n",
       "      <th>pickup_datetime</th>\n",
       "      <th>pickup_longitude</th>\n",
       "      <th>pickup_latitude</th>\n",
       "      <th>dropoff_longitude</th>\n",
       "      <th>dropoff_latitude</th>\n",
       "      <th>passenger_count</th>\n",
       "      <th>pickup_hour</th>\n",
       "      <th>pickup_month</th>\n",
       "      <th>pickup_weekday</th>\n",
       "      <th>pickup_year</th>\n",
       "    </tr>\n",
       "  </thead>\n",
       "  <tbody>\n",
       "    <tr>\n",
       "      <th>0</th>\n",
       "      <td>4.5</td>\n",
       "      <td>2009-06-15 17:26:21</td>\n",
       "      <td>-73.844311</td>\n",
       "      <td>40.721319</td>\n",
       "      <td>-73.841610</td>\n",
       "      <td>40.712278</td>\n",
       "      <td>1.0</td>\n",
       "      <td>17</td>\n",
       "      <td>06</td>\n",
       "      <td>1</td>\n",
       "      <td>2009</td>\n",
       "    </tr>\n",
       "    <tr>\n",
       "      <th>1</th>\n",
       "      <td>16.9</td>\n",
       "      <td>2010-01-05 16:52:16</td>\n",
       "      <td>-74.016048</td>\n",
       "      <td>40.711303</td>\n",
       "      <td>-73.979268</td>\n",
       "      <td>40.782004</td>\n",
       "      <td>1.0</td>\n",
       "      <td>16</td>\n",
       "      <td>01</td>\n",
       "      <td>2</td>\n",
       "      <td>2010</td>\n",
       "    </tr>\n",
       "    <tr>\n",
       "      <th>2</th>\n",
       "      <td>5.7</td>\n",
       "      <td>2011-08-18 00:35:00</td>\n",
       "      <td>-73.982738</td>\n",
       "      <td>40.761270</td>\n",
       "      <td>-73.991242</td>\n",
       "      <td>40.750562</td>\n",
       "      <td>2.0</td>\n",
       "      <td>00</td>\n",
       "      <td>08</td>\n",
       "      <td>4</td>\n",
       "      <td>2011</td>\n",
       "    </tr>\n",
       "    <tr>\n",
       "      <th>3</th>\n",
       "      <td>7.7</td>\n",
       "      <td>2012-04-21 04:30:42</td>\n",
       "      <td>-73.987130</td>\n",
       "      <td>40.733143</td>\n",
       "      <td>-73.991567</td>\n",
       "      <td>40.758092</td>\n",
       "      <td>1.0</td>\n",
       "      <td>04</td>\n",
       "      <td>04</td>\n",
       "      <td>6</td>\n",
       "      <td>2012</td>\n",
       "    </tr>\n",
       "    <tr>\n",
       "      <th>4</th>\n",
       "      <td>5.3</td>\n",
       "      <td>2010-03-09 07:51:00</td>\n",
       "      <td>-73.968095</td>\n",
       "      <td>40.768008</td>\n",
       "      <td>-73.956655</td>\n",
       "      <td>40.783762</td>\n",
       "      <td>1.0</td>\n",
       "      <td>07</td>\n",
       "      <td>03</td>\n",
       "      <td>2</td>\n",
       "      <td>2010</td>\n",
       "    </tr>\n",
       "  </tbody>\n",
       "</table>\n",
       "</div>"
      ],
      "text/plain": [
       "   fare_amount     pickup_datetime  pickup_longitude  pickup_latitude  \\\n",
       "0          4.5 2009-06-15 17:26:21        -73.844311        40.721319   \n",
       "1         16.9 2010-01-05 16:52:16        -74.016048        40.711303   \n",
       "2          5.7 2011-08-18 00:35:00        -73.982738        40.761270   \n",
       "3          7.7 2012-04-21 04:30:42        -73.987130        40.733143   \n",
       "4          5.3 2010-03-09 07:51:00        -73.968095        40.768008   \n",
       "\n",
       "   dropoff_longitude  dropoff_latitude  passenger_count pickup_hour  \\\n",
       "0         -73.841610         40.712278              1.0          17   \n",
       "1         -73.979268         40.782004              1.0          16   \n",
       "2         -73.991242         40.750562              2.0          00   \n",
       "3         -73.991567         40.758092              1.0          04   \n",
       "4         -73.956655         40.783762              1.0          07   \n",
       "\n",
       "  pickup_month pickup_weekday pickup_year  \n",
       "0           06              1        2009  \n",
       "1           01              2        2010  \n",
       "2           08              4        2011  \n",
       "3           04              6        2012  \n",
       "4           03              2        2010  "
      ]
     },
     "execution_count": 24,
     "metadata": {},
     "output_type": "execute_result"
    }
   ],
   "source": [
    "df.head()"
   ]
  },
  {
   "cell_type": "code",
   "execution_count": 25,
   "metadata": {},
   "outputs": [
    {
     "data": {
      "text/html": [
       "<div>\n",
       "<style scoped>\n",
       "    .dataframe tbody tr th:only-of-type {\n",
       "        vertical-align: middle;\n",
       "    }\n",
       "\n",
       "    .dataframe tbody tr th {\n",
       "        vertical-align: top;\n",
       "    }\n",
       "\n",
       "    .dataframe thead th {\n",
       "        text-align: right;\n",
       "    }\n",
       "</style>\n",
       "<table border=\"1\" class=\"dataframe\">\n",
       "  <thead>\n",
       "    <tr style=\"text-align: right;\">\n",
       "      <th></th>\n",
       "      <th>fare_amount</th>\n",
       "      <th>pickup_longitude</th>\n",
       "      <th>pickup_latitude</th>\n",
       "      <th>dropoff_longitude</th>\n",
       "      <th>dropoff_latitude</th>\n",
       "      <th>passenger_count</th>\n",
       "    </tr>\n",
       "  </thead>\n",
       "  <tbody>\n",
       "    <tr>\n",
       "      <th>count</th>\n",
       "      <td>15909.000000</td>\n",
       "      <td>15933.000000</td>\n",
       "      <td>15933.000000</td>\n",
       "      <td>15933.000000</td>\n",
       "      <td>15933.000000</td>\n",
       "      <td>15933.000000</td>\n",
       "    </tr>\n",
       "    <tr>\n",
       "      <th>mean</th>\n",
       "      <td>15.059584</td>\n",
       "      <td>-72.468617</td>\n",
       "      <td>39.917943</td>\n",
       "      <td>-72.458874</td>\n",
       "      <td>39.895855</td>\n",
       "      <td>1.649658</td>\n",
       "    </tr>\n",
       "    <tr>\n",
       "      <th>std</th>\n",
       "      <td>432.255921</td>\n",
       "      <td>10.559654</td>\n",
       "      <td>6.825582</td>\n",
       "      <td>10.587461</td>\n",
       "      <td>6.196463</td>\n",
       "      <td>1.265933</td>\n",
       "    </tr>\n",
       "    <tr>\n",
       "      <th>min</th>\n",
       "      <td>-3.000000</td>\n",
       "      <td>-74.438233</td>\n",
       "      <td>-74.006893</td>\n",
       "      <td>-74.429332</td>\n",
       "      <td>-74.006377</td>\n",
       "      <td>1.000000</td>\n",
       "    </tr>\n",
       "    <tr>\n",
       "      <th>25%</th>\n",
       "      <td>6.000000</td>\n",
       "      <td>-73.992148</td>\n",
       "      <td>40.734938</td>\n",
       "      <td>-73.991182</td>\n",
       "      <td>40.734662</td>\n",
       "      <td>1.000000</td>\n",
       "    </tr>\n",
       "    <tr>\n",
       "      <th>50%</th>\n",
       "      <td>8.500000</td>\n",
       "      <td>-73.981675</td>\n",
       "      <td>40.752633</td>\n",
       "      <td>-73.980155</td>\n",
       "      <td>40.753565</td>\n",
       "      <td>1.000000</td>\n",
       "    </tr>\n",
       "    <tr>\n",
       "      <th>75%</th>\n",
       "      <td>12.500000</td>\n",
       "      <td>-73.966800</td>\n",
       "      <td>40.767392</td>\n",
       "      <td>-73.963598</td>\n",
       "      <td>40.768026</td>\n",
       "      <td>2.000000</td>\n",
       "    </tr>\n",
       "    <tr>\n",
       "      <th>max</th>\n",
       "      <td>54343.000000</td>\n",
       "      <td>40.766125</td>\n",
       "      <td>401.083332</td>\n",
       "      <td>40.802437</td>\n",
       "      <td>41.366138</td>\n",
       "      <td>6.000000</td>\n",
       "    </tr>\n",
       "  </tbody>\n",
       "</table>\n",
       "</div>"
      ],
      "text/plain": [
       "        fare_amount  pickup_longitude  pickup_latitude  dropoff_longitude  \\\n",
       "count  15909.000000      15933.000000     15933.000000       15933.000000   \n",
       "mean      15.059584        -72.468617        39.917943         -72.458874   \n",
       "std      432.255921         10.559654         6.825582          10.587461   \n",
       "min       -3.000000        -74.438233       -74.006893         -74.429332   \n",
       "25%        6.000000        -73.992148        40.734938         -73.991182   \n",
       "50%        8.500000        -73.981675        40.752633         -73.980155   \n",
       "75%       12.500000        -73.966800        40.767392         -73.963598   \n",
       "max    54343.000000         40.766125       401.083332          40.802437   \n",
       "\n",
       "       dropoff_latitude  passenger_count  \n",
       "count      15933.000000     15933.000000  \n",
       "mean          39.895855         1.649658  \n",
       "std            6.196463         1.265933  \n",
       "min          -74.006377         1.000000  \n",
       "25%           40.734662         1.000000  \n",
       "50%           40.753565         1.000000  \n",
       "75%           40.768026         2.000000  \n",
       "max           41.366138         6.000000  "
      ]
     },
     "execution_count": 25,
     "metadata": {},
     "output_type": "execute_result"
    }
   ],
   "source": [
    "df.describe()"
   ]
  },
  {
   "cell_type": "code",
   "execution_count": 26,
   "metadata": {},
   "outputs": [],
   "source": [
    "#drop pickup_datetime\n",
    "df.drop([\"pickup_datetime\"],axis = 1,inplace = True)\n",
    "\n",
    "#drop from test set\n",
    "test.drop([\"pickup_datetime\"],axis = 1,inplace = True)"
   ]
  },
  {
   "cell_type": "code",
   "execution_count": 27,
   "metadata": {},
   "outputs": [
    {
     "data": {
      "text/plain": [
       "pickup_longitude     0\n",
       "pickup_latitude      0\n",
       "dropoff_longitude    0\n",
       "dropoff_latitude     0\n",
       "passenger_count      0\n",
       "pickup_hour          0\n",
       "pickup_month         0\n",
       "pickup_weekday       0\n",
       "pickup_year          0\n",
       "dtype: int64"
      ]
     },
     "execution_count": 27,
     "metadata": {},
     "output_type": "execute_result"
    }
   ],
   "source": [
    "test.isnull().sum()"
   ]
  },
  {
   "cell_type": "code",
   "execution_count": 28,
   "metadata": {},
   "outputs": [
    {
     "data": {
      "text/plain": [
       "fare_amount          24\n",
       "pickup_longitude      0\n",
       "pickup_latitude       0\n",
       "dropoff_longitude     0\n",
       "dropoff_latitude      0\n",
       "passenger_count       0\n",
       "pickup_hour           0\n",
       "pickup_month          0\n",
       "pickup_weekday        0\n",
       "pickup_year           0\n",
       "dtype: int64"
      ]
     },
     "execution_count": 28,
     "metadata": {},
     "output_type": "execute_result"
    }
   ],
   "source": [
    "df.isnull().sum()"
   ]
  },
  {
   "cell_type": "code",
   "execution_count": 29,
   "metadata": {},
   "outputs": [],
   "source": [
    "df = df.reset_index(drop=True)"
   ]
  },
  {
   "cell_type": "markdown",
   "metadata": {},
   "source": [
    "# Missing value analysis"
   ]
  },
  {
   "cell_type": "code",
   "execution_count": 30,
   "metadata": {},
   "outputs": [],
   "source": [
    "missing_values = pd.DataFrame(df.isnull().sum()).reset_index()"
   ]
  },
  {
   "cell_type": "code",
   "execution_count": 31,
   "metadata": {},
   "outputs": [
    {
     "data": {
      "text/html": [
       "<div>\n",
       "<style scoped>\n",
       "    .dataframe tbody tr th:only-of-type {\n",
       "        vertical-align: middle;\n",
       "    }\n",
       "\n",
       "    .dataframe tbody tr th {\n",
       "        vertical-align: top;\n",
       "    }\n",
       "\n",
       "    .dataframe thead th {\n",
       "        text-align: right;\n",
       "    }\n",
       "</style>\n",
       "<table border=\"1\" class=\"dataframe\">\n",
       "  <thead>\n",
       "    <tr style=\"text-align: right;\">\n",
       "      <th></th>\n",
       "      <th>index</th>\n",
       "      <th>0</th>\n",
       "    </tr>\n",
       "  </thead>\n",
       "  <tbody>\n",
       "    <tr>\n",
       "      <th>0</th>\n",
       "      <td>fare_amount</td>\n",
       "      <td>24</td>\n",
       "    </tr>\n",
       "    <tr>\n",
       "      <th>1</th>\n",
       "      <td>pickup_longitude</td>\n",
       "      <td>0</td>\n",
       "    </tr>\n",
       "    <tr>\n",
       "      <th>2</th>\n",
       "      <td>pickup_latitude</td>\n",
       "      <td>0</td>\n",
       "    </tr>\n",
       "    <tr>\n",
       "      <th>3</th>\n",
       "      <td>dropoff_longitude</td>\n",
       "      <td>0</td>\n",
       "    </tr>\n",
       "    <tr>\n",
       "      <th>4</th>\n",
       "      <td>dropoff_latitude</td>\n",
       "      <td>0</td>\n",
       "    </tr>\n",
       "    <tr>\n",
       "      <th>5</th>\n",
       "      <td>passenger_count</td>\n",
       "      <td>0</td>\n",
       "    </tr>\n",
       "    <tr>\n",
       "      <th>6</th>\n",
       "      <td>pickup_hour</td>\n",
       "      <td>0</td>\n",
       "    </tr>\n",
       "    <tr>\n",
       "      <th>7</th>\n",
       "      <td>pickup_month</td>\n",
       "      <td>0</td>\n",
       "    </tr>\n",
       "    <tr>\n",
       "      <th>8</th>\n",
       "      <td>pickup_weekday</td>\n",
       "      <td>0</td>\n",
       "    </tr>\n",
       "    <tr>\n",
       "      <th>9</th>\n",
       "      <td>pickup_year</td>\n",
       "      <td>0</td>\n",
       "    </tr>\n",
       "  </tbody>\n",
       "</table>\n",
       "</div>"
      ],
      "text/plain": [
       "               index   0\n",
       "0        fare_amount  24\n",
       "1   pickup_longitude   0\n",
       "2    pickup_latitude   0\n",
       "3  dropoff_longitude   0\n",
       "4   dropoff_latitude   0\n",
       "5    passenger_count   0\n",
       "6        pickup_hour   0\n",
       "7       pickup_month   0\n",
       "8     pickup_weekday   0\n",
       "9        pickup_year   0"
      ]
     },
     "execution_count": 31,
     "metadata": {},
     "output_type": "execute_result"
    }
   ],
   "source": [
    "missing_values"
   ]
  },
  {
   "cell_type": "code",
   "execution_count": 32,
   "metadata": {},
   "outputs": [],
   "source": [
    "missing_values = missing_values.rename(columns = {\"index\":\"Variables\",0:\"Missing_values\"})"
   ]
  },
  {
   "cell_type": "code",
   "execution_count": 33,
   "metadata": {},
   "outputs": [],
   "source": [
    "missing_values = missing_values.sort_values(\"Missing_values\",ascending = False)"
   ]
  },
  {
   "cell_type": "code",
   "execution_count": 34,
   "metadata": {},
   "outputs": [
    {
     "data": {
      "text/html": [
       "<div>\n",
       "<style scoped>\n",
       "    .dataframe tbody tr th:only-of-type {\n",
       "        vertical-align: middle;\n",
       "    }\n",
       "\n",
       "    .dataframe tbody tr th {\n",
       "        vertical-align: top;\n",
       "    }\n",
       "\n",
       "    .dataframe thead th {\n",
       "        text-align: right;\n",
       "    }\n",
       "</style>\n",
       "<table border=\"1\" class=\"dataframe\">\n",
       "  <thead>\n",
       "    <tr style=\"text-align: right;\">\n",
       "      <th></th>\n",
       "      <th>Variables</th>\n",
       "      <th>Missing_values</th>\n",
       "    </tr>\n",
       "  </thead>\n",
       "  <tbody>\n",
       "    <tr>\n",
       "      <th>0</th>\n",
       "      <td>fare_amount</td>\n",
       "      <td>24</td>\n",
       "    </tr>\n",
       "    <tr>\n",
       "      <th>1</th>\n",
       "      <td>pickup_longitude</td>\n",
       "      <td>0</td>\n",
       "    </tr>\n",
       "    <tr>\n",
       "      <th>2</th>\n",
       "      <td>pickup_latitude</td>\n",
       "      <td>0</td>\n",
       "    </tr>\n",
       "    <tr>\n",
       "      <th>3</th>\n",
       "      <td>dropoff_longitude</td>\n",
       "      <td>0</td>\n",
       "    </tr>\n",
       "    <tr>\n",
       "      <th>4</th>\n",
       "      <td>dropoff_latitude</td>\n",
       "      <td>0</td>\n",
       "    </tr>\n",
       "    <tr>\n",
       "      <th>5</th>\n",
       "      <td>passenger_count</td>\n",
       "      <td>0</td>\n",
       "    </tr>\n",
       "    <tr>\n",
       "      <th>6</th>\n",
       "      <td>pickup_hour</td>\n",
       "      <td>0</td>\n",
       "    </tr>\n",
       "    <tr>\n",
       "      <th>7</th>\n",
       "      <td>pickup_month</td>\n",
       "      <td>0</td>\n",
       "    </tr>\n",
       "    <tr>\n",
       "      <th>8</th>\n",
       "      <td>pickup_weekday</td>\n",
       "      <td>0</td>\n",
       "    </tr>\n",
       "    <tr>\n",
       "      <th>9</th>\n",
       "      <td>pickup_year</td>\n",
       "      <td>0</td>\n",
       "    </tr>\n",
       "  </tbody>\n",
       "</table>\n",
       "</div>"
      ],
      "text/plain": [
       "           Variables  Missing_values\n",
       "0        fare_amount              24\n",
       "1   pickup_longitude               0\n",
       "2    pickup_latitude               0\n",
       "3  dropoff_longitude               0\n",
       "4   dropoff_latitude               0\n",
       "5    passenger_count               0\n",
       "6        pickup_hour               0\n",
       "7       pickup_month               0\n",
       "8     pickup_weekday               0\n",
       "9        pickup_year               0"
      ]
     },
     "execution_count": 34,
     "metadata": {},
     "output_type": "execute_result"
    }
   ],
   "source": [
    "missing_values"
   ]
  },
  {
   "cell_type": "code",
   "execution_count": 35,
   "metadata": {},
   "outputs": [],
   "source": [
    "#df['fare_amount'][0] = np.nan"
   ]
  },
  {
   "cell_type": "code",
   "execution_count": 36,
   "metadata": {},
   "outputs": [],
   "source": [
    "#Impute with median\n",
    "#df['fare_amount'] = df['fare_amount'].fillna(df['fare_amount'].median())"
   ]
  },
  {
   "cell_type": "code",
   "execution_count": 37,
   "metadata": {},
   "outputs": [],
   "source": [
    "#df['fare_amount'][0]  #4.5"
   ]
  },
  {
   "cell_type": "code",
   "execution_count": 38,
   "metadata": {},
   "outputs": [
    {
     "data": {
      "text/html": [
       "<div>\n",
       "<style scoped>\n",
       "    .dataframe tbody tr th:only-of-type {\n",
       "        vertical-align: middle;\n",
       "    }\n",
       "\n",
       "    .dataframe tbody tr th {\n",
       "        vertical-align: top;\n",
       "    }\n",
       "\n",
       "    .dataframe thead th {\n",
       "        text-align: right;\n",
       "    }\n",
       "</style>\n",
       "<table border=\"1\" class=\"dataframe\">\n",
       "  <thead>\n",
       "    <tr style=\"text-align: right;\">\n",
       "      <th></th>\n",
       "      <th>fare_amount</th>\n",
       "      <th>pickup_longitude</th>\n",
       "      <th>pickup_latitude</th>\n",
       "      <th>dropoff_longitude</th>\n",
       "      <th>dropoff_latitude</th>\n",
       "      <th>passenger_count</th>\n",
       "    </tr>\n",
       "  </thead>\n",
       "  <tbody>\n",
       "    <tr>\n",
       "      <th>count</th>\n",
       "      <td>15909.000000</td>\n",
       "      <td>15933.000000</td>\n",
       "      <td>15933.000000</td>\n",
       "      <td>15933.000000</td>\n",
       "      <td>15933.000000</td>\n",
       "      <td>15933.000000</td>\n",
       "    </tr>\n",
       "    <tr>\n",
       "      <th>mean</th>\n",
       "      <td>15.059584</td>\n",
       "      <td>-72.468617</td>\n",
       "      <td>39.917943</td>\n",
       "      <td>-72.458874</td>\n",
       "      <td>39.895855</td>\n",
       "      <td>1.649658</td>\n",
       "    </tr>\n",
       "    <tr>\n",
       "      <th>std</th>\n",
       "      <td>432.255921</td>\n",
       "      <td>10.559654</td>\n",
       "      <td>6.825582</td>\n",
       "      <td>10.587461</td>\n",
       "      <td>6.196463</td>\n",
       "      <td>1.265933</td>\n",
       "    </tr>\n",
       "    <tr>\n",
       "      <th>min</th>\n",
       "      <td>-3.000000</td>\n",
       "      <td>-74.438233</td>\n",
       "      <td>-74.006893</td>\n",
       "      <td>-74.429332</td>\n",
       "      <td>-74.006377</td>\n",
       "      <td>1.000000</td>\n",
       "    </tr>\n",
       "    <tr>\n",
       "      <th>25%</th>\n",
       "      <td>6.000000</td>\n",
       "      <td>-73.992148</td>\n",
       "      <td>40.734938</td>\n",
       "      <td>-73.991182</td>\n",
       "      <td>40.734662</td>\n",
       "      <td>1.000000</td>\n",
       "    </tr>\n",
       "    <tr>\n",
       "      <th>50%</th>\n",
       "      <td>8.500000</td>\n",
       "      <td>-73.981675</td>\n",
       "      <td>40.752633</td>\n",
       "      <td>-73.980155</td>\n",
       "      <td>40.753565</td>\n",
       "      <td>1.000000</td>\n",
       "    </tr>\n",
       "    <tr>\n",
       "      <th>75%</th>\n",
       "      <td>12.500000</td>\n",
       "      <td>-73.966800</td>\n",
       "      <td>40.767392</td>\n",
       "      <td>-73.963598</td>\n",
       "      <td>40.768026</td>\n",
       "      <td>2.000000</td>\n",
       "    </tr>\n",
       "    <tr>\n",
       "      <th>max</th>\n",
       "      <td>54343.000000</td>\n",
       "      <td>40.766125</td>\n",
       "      <td>401.083332</td>\n",
       "      <td>40.802437</td>\n",
       "      <td>41.366138</td>\n",
       "      <td>6.000000</td>\n",
       "    </tr>\n",
       "  </tbody>\n",
       "</table>\n",
       "</div>"
      ],
      "text/plain": [
       "        fare_amount  pickup_longitude  pickup_latitude  dropoff_longitude  \\\n",
       "count  15909.000000      15933.000000     15933.000000       15933.000000   \n",
       "mean      15.059584        -72.468617        39.917943         -72.458874   \n",
       "std      432.255921         10.559654         6.825582          10.587461   \n",
       "min       -3.000000        -74.438233       -74.006893         -74.429332   \n",
       "25%        6.000000        -73.992148        40.734938         -73.991182   \n",
       "50%        8.500000        -73.981675        40.752633         -73.980155   \n",
       "75%       12.500000        -73.966800        40.767392         -73.963598   \n",
       "max    54343.000000         40.766125       401.083332          40.802437   \n",
       "\n",
       "       dropoff_latitude  passenger_count  \n",
       "count      15933.000000     15933.000000  \n",
       "mean          39.895855         1.649658  \n",
       "std            6.196463         1.265933  \n",
       "min          -74.006377         1.000000  \n",
       "25%           40.734662         1.000000  \n",
       "50%           40.753565         1.000000  \n",
       "75%           40.768026         2.000000  \n",
       "max           41.366138         6.000000  "
      ]
     },
     "execution_count": 38,
     "metadata": {},
     "output_type": "execute_result"
    }
   ],
   "source": [
    "df.describe()"
   ]
  },
  {
   "cell_type": "code",
   "execution_count": 39,
   "metadata": {},
   "outputs": [],
   "source": [
    "#replace NaT with NA to impute\n",
    "for i in range(0, df.shape[1]):\n",
    "    df.iloc[:,i] = df.iloc[:,i].replace(\"NaT\", np.nan) "
   ]
  },
  {
   "cell_type": "code",
   "execution_count": 40,
   "metadata": {},
   "outputs": [
    {
     "name": "stdout",
     "output_type": "stream",
     "text": [
      "Imputing row 1/15933 with 0 missing, elapsed time: 110.931\n",
      "Imputing row 101/15933 with 0 missing, elapsed time: 117.788\n",
      "Imputing row 201/15933 with 0 missing, elapsed time: 117.791\n",
      "Imputing row 301/15933 with 0 missing, elapsed time: 117.793\n",
      "Imputing row 401/15933 with 0 missing, elapsed time: 117.794\n",
      "Imputing row 501/15933 with 0 missing, elapsed time: 117.796\n",
      "Imputing row 601/15933 with 0 missing, elapsed time: 117.797\n",
      "Imputing row 701/15933 with 0 missing, elapsed time: 117.800\n",
      "Imputing row 801/15933 with 0 missing, elapsed time: 117.803\n",
      "Imputing row 901/15933 with 0 missing, elapsed time: 117.806\n",
      "Imputing row 1001/15933 with 0 missing, elapsed time: 117.807\n",
      "Imputing row 1101/15933 with 0 missing, elapsed time: 117.809\n",
      "Imputing row 1201/15933 with 0 missing, elapsed time: 117.810\n",
      "Imputing row 1301/15933 with 0 missing, elapsed time: 117.976\n",
      "Imputing row 1401/15933 with 0 missing, elapsed time: 117.978\n",
      "Imputing row 1501/15933 with 0 missing, elapsed time: 117.978\n",
      "Imputing row 1601/15933 with 0 missing, elapsed time: 118.008\n",
      "Imputing row 1701/15933 with 0 missing, elapsed time: 118.012\n",
      "Imputing row 1801/15933 with 0 missing, elapsed time: 118.013\n",
      "Imputing row 1901/15933 with 0 missing, elapsed time: 118.014\n",
      "Imputing row 2001/15933 with 0 missing, elapsed time: 118.014\n",
      "Imputing row 2101/15933 with 0 missing, elapsed time: 118.015\n",
      "Imputing row 2201/15933 with 0 missing, elapsed time: 118.016\n",
      "Imputing row 2301/15933 with 0 missing, elapsed time: 118.016\n",
      "Imputing row 2401/15933 with 0 missing, elapsed time: 118.021\n",
      "Imputing row 2501/15933 with 0 missing, elapsed time: 118.023\n",
      "Imputing row 2601/15933 with 0 missing, elapsed time: 118.024\n",
      "Imputing row 2701/15933 with 0 missing, elapsed time: 118.024\n",
      "Imputing row 2801/15933 with 0 missing, elapsed time: 118.025\n",
      "Imputing row 2901/15933 with 0 missing, elapsed time: 118.026\n",
      "Imputing row 3001/15933 with 0 missing, elapsed time: 118.027\n",
      "Imputing row 3101/15933 with 0 missing, elapsed time: 118.027\n",
      "Imputing row 3201/15933 with 0 missing, elapsed time: 118.028\n",
      "Imputing row 3301/15933 with 0 missing, elapsed time: 118.029\n",
      "Imputing row 3401/15933 with 0 missing, elapsed time: 118.033\n",
      "Imputing row 3501/15933 with 0 missing, elapsed time: 118.034\n",
      "Imputing row 3601/15933 with 0 missing, elapsed time: 118.035\n",
      "Imputing row 3701/15933 with 0 missing, elapsed time: 118.036\n",
      "Imputing row 3801/15933 with 0 missing, elapsed time: 118.037\n",
      "Imputing row 3901/15933 with 0 missing, elapsed time: 118.038\n",
      "Imputing row 4001/15933 with 0 missing, elapsed time: 118.038\n",
      "Imputing row 4101/15933 with 0 missing, elapsed time: 118.039\n",
      "Imputing row 4201/15933 with 0 missing, elapsed time: 118.040\n",
      "Imputing row 4301/15933 with 0 missing, elapsed time: 118.041\n",
      "Imputing row 4401/15933 with 0 missing, elapsed time: 119.519\n",
      "Imputing row 4501/15933 with 0 missing, elapsed time: 119.521\n",
      "Imputing row 4601/15933 with 0 missing, elapsed time: 119.523\n",
      "Imputing row 4701/15933 with 0 missing, elapsed time: 119.524\n",
      "Imputing row 4801/15933 with 0 missing, elapsed time: 119.525\n",
      "Imputing row 4901/15933 with 0 missing, elapsed time: 119.526\n",
      "Imputing row 5001/15933 with 0 missing, elapsed time: 119.527\n",
      "Imputing row 5101/15933 with 0 missing, elapsed time: 119.529\n",
      "Imputing row 5201/15933 with 0 missing, elapsed time: 119.531\n",
      "Imputing row 5301/15933 with 0 missing, elapsed time: 119.533\n",
      "Imputing row 5401/15933 with 0 missing, elapsed time: 119.534\n",
      "Imputing row 5501/15933 with 0 missing, elapsed time: 119.535\n",
      "Imputing row 5601/15933 with 0 missing, elapsed time: 119.535\n",
      "Imputing row 5701/15933 with 0 missing, elapsed time: 119.536\n",
      "Imputing row 5801/15933 with 0 missing, elapsed time: 119.537\n",
      "Imputing row 5901/15933 with 0 missing, elapsed time: 119.537\n",
      "Imputing row 6001/15933 with 0 missing, elapsed time: 119.538\n",
      "Imputing row 6101/15933 with 0 missing, elapsed time: 119.539\n",
      "Imputing row 6201/15933 with 0 missing, elapsed time: 119.539\n",
      "Imputing row 6301/15933 with 0 missing, elapsed time: 119.540\n",
      "Imputing row 6401/15933 with 0 missing, elapsed time: 119.540\n",
      "Imputing row 6501/15933 with 0 missing, elapsed time: 119.541\n",
      "Imputing row 6601/15933 with 0 missing, elapsed time: 119.542\n",
      "Imputing row 6701/15933 with 0 missing, elapsed time: 119.542\n",
      "Imputing row 6801/15933 with 0 missing, elapsed time: 119.543\n",
      "Imputing row 6901/15933 with 0 missing, elapsed time: 119.544\n",
      "Imputing row 7001/15933 with 0 missing, elapsed time: 119.544\n",
      "Imputing row 7101/15933 with 0 missing, elapsed time: 119.545\n",
      "Imputing row 7201/15933 with 0 missing, elapsed time: 119.546\n",
      "Imputing row 7301/15933 with 0 missing, elapsed time: 119.546\n",
      "Imputing row 7401/15933 with 0 missing, elapsed time: 119.547\n",
      "Imputing row 7501/15933 with 0 missing, elapsed time: 119.548\n",
      "Imputing row 7601/15933 with 0 missing, elapsed time: 119.549\n",
      "Imputing row 7701/15933 with 0 missing, elapsed time: 119.549\n",
      "Imputing row 7801/15933 with 0 missing, elapsed time: 119.550\n",
      "Imputing row 7901/15933 with 0 missing, elapsed time: 119.551\n",
      "Imputing row 8001/15933 with 0 missing, elapsed time: 119.551\n",
      "Imputing row 8101/15933 with 0 missing, elapsed time: 119.554\n",
      "Imputing row 8201/15933 with 0 missing, elapsed time: 119.556\n",
      "Imputing row 8301/15933 with 0 missing, elapsed time: 119.556\n",
      "Imputing row 8401/15933 with 0 missing, elapsed time: 119.557\n",
      "Imputing row 8501/15933 with 0 missing, elapsed time: 119.558\n",
      "Imputing row 8601/15933 with 0 missing, elapsed time: 119.558\n",
      "Imputing row 8701/15933 with 0 missing, elapsed time: 119.559\n",
      "Imputing row 8801/15933 with 0 missing, elapsed time: 119.560\n",
      "Imputing row 8901/15933 with 0 missing, elapsed time: 119.560\n",
      "Imputing row 9001/15933 with 0 missing, elapsed time: 119.561\n",
      "Imputing row 9101/15933 with 0 missing, elapsed time: 119.562\n",
      "Imputing row 9201/15933 with 0 missing, elapsed time: 119.562\n",
      "Imputing row 9301/15933 with 0 missing, elapsed time: 119.563\n",
      "Imputing row 9401/15933 with 0 missing, elapsed time: 119.564\n",
      "Imputing row 9501/15933 with 0 missing, elapsed time: 119.564\n",
      "Imputing row 9601/15933 with 0 missing, elapsed time: 119.565\n",
      "Imputing row 9701/15933 with 0 missing, elapsed time: 119.566\n",
      "Imputing row 9801/15933 with 0 missing, elapsed time: 119.567\n",
      "Imputing row 9901/15933 with 0 missing, elapsed time: 119.568\n",
      "Imputing row 10001/15933 with 0 missing, elapsed time: 119.568\n",
      "Imputing row 10101/15933 with 0 missing, elapsed time: 119.569\n",
      "Imputing row 10201/15933 with 0 missing, elapsed time: 119.570\n",
      "Imputing row 10301/15933 with 0 missing, elapsed time: 119.570\n",
      "Imputing row 10401/15933 with 0 missing, elapsed time: 119.571\n",
      "Imputing row 10501/15933 with 0 missing, elapsed time: 119.572\n",
      "Imputing row 10601/15933 with 0 missing, elapsed time: 119.572\n",
      "Imputing row 10701/15933 with 0 missing, elapsed time: 119.573\n",
      "Imputing row 10801/15933 with 0 missing, elapsed time: 119.574\n",
      "Imputing row 10901/15933 with 0 missing, elapsed time: 119.574\n",
      "Imputing row 11001/15933 with 0 missing, elapsed time: 119.575\n",
      "Imputing row 11101/15933 with 0 missing, elapsed time: 119.576\n",
      "Imputing row 11201/15933 with 0 missing, elapsed time: 119.576\n",
      "Imputing row 11301/15933 with 0 missing, elapsed time: 119.577\n",
      "Imputing row 11401/15933 with 0 missing, elapsed time: 119.577\n",
      "Imputing row 11501/15933 with 0 missing, elapsed time: 119.578\n",
      "Imputing row 11601/15933 with 0 missing, elapsed time: 119.579\n",
      "Imputing row 11701/15933 with 0 missing, elapsed time: 119.580\n",
      "Imputing row 11801/15933 with 0 missing, elapsed time: 119.581\n",
      "Imputing row 11901/15933 with 0 missing, elapsed time: 119.582\n",
      "Imputing row 12001/15933 with 0 missing, elapsed time: 119.583\n",
      "Imputing row 12101/15933 with 0 missing, elapsed time: 119.583\n",
      "Imputing row 12201/15933 with 0 missing, elapsed time: 119.584\n",
      "Imputing row 12301/15933 with 0 missing, elapsed time: 119.585\n",
      "Imputing row 12401/15933 with 0 missing, elapsed time: 119.585\n",
      "Imputing row 12501/15933 with 0 missing, elapsed time: 119.586\n",
      "Imputing row 12601/15933 with 0 missing, elapsed time: 119.586\n",
      "Imputing row 12701/15933 with 0 missing, elapsed time: 119.587\n",
      "Imputing row 12801/15933 with 0 missing, elapsed time: 119.588\n",
      "Imputing row 12901/15933 with 0 missing, elapsed time: 119.588\n",
      "Imputing row 13001/15933 with 0 missing, elapsed time: 119.590\n",
      "Imputing row 13101/15933 with 0 missing, elapsed time: 119.591\n",
      "Imputing row 13201/15933 with 0 missing, elapsed time: 119.591\n",
      "Imputing row 13301/15933 with 0 missing, elapsed time: 119.592\n",
      "Imputing row 13401/15933 with 0 missing, elapsed time: 119.592\n",
      "Imputing row 13501/15933 with 0 missing, elapsed time: 119.593\n",
      "Imputing row 13601/15933 with 0 missing, elapsed time: 119.594\n",
      "Imputing row 13701/15933 with 0 missing, elapsed time: 119.595\n",
      "Imputing row 13801/15933 with 0 missing, elapsed time: 119.596\n",
      "Imputing row 13901/15933 with 0 missing, elapsed time: 119.597\n",
      "Imputing row 14001/15933 with 0 missing, elapsed time: 119.598\n",
      "Imputing row 14101/15933 with 0 missing, elapsed time: 119.599\n",
      "Imputing row 14201/15933 with 0 missing, elapsed time: 119.600\n",
      "Imputing row 14301/15933 with 0 missing, elapsed time: 119.600\n",
      "Imputing row 14401/15933 with 0 missing, elapsed time: 119.601\n",
      "Imputing row 14501/15933 with 0 missing, elapsed time: 119.602\n",
      "Imputing row 14601/15933 with 0 missing, elapsed time: 119.602\n",
      "Imputing row 14701/15933 with 0 missing, elapsed time: 119.603\n",
      "Imputing row 14801/15933 with 0 missing, elapsed time: 119.604\n",
      "Imputing row 14901/15933 with 0 missing, elapsed time: 119.604\n",
      "Imputing row 15001/15933 with 0 missing, elapsed time: 119.605\n",
      "Imputing row 15101/15933 with 0 missing, elapsed time: 119.605\n",
      "Imputing row 15201/15933 with 0 missing, elapsed time: 119.606\n",
      "Imputing row 15301/15933 with 0 missing, elapsed time: 119.607\n",
      "Imputing row 15401/15933 with 0 missing, elapsed time: 119.607\n",
      "Imputing row 15501/15933 with 0 missing, elapsed time: 119.608\n",
      "Imputing row 15601/15933 with 0 missing, elapsed time: 119.609\n",
      "Imputing row 15701/15933 with 0 missing, elapsed time: 119.609\n",
      "Imputing row 15801/15933 with 0 missing, elapsed time: 119.611\n",
      "Imputing row 15901/15933 with 0 missing, elapsed time: 119.611\n"
     ]
    }
   ],
   "source": [
    "#Apply KNN imputation algorithm\n",
    "df = pd.DataFrame(KNN(k = 2).fit_transform(df), columns = df.columns)"
   ]
  },
  {
   "cell_type": "code",
   "execution_count": 41,
   "metadata": {},
   "outputs": [],
   "source": [
    "#remove rows having fare amount -ve\n",
    "df = df[df[\"fare_amount\"] > 0.0]"
   ]
  },
  {
   "cell_type": "code",
   "execution_count": 42,
   "metadata": {},
   "outputs": [
    {
     "data": {
      "text/html": [
       "<div>\n",
       "<style scoped>\n",
       "    .dataframe tbody tr th:only-of-type {\n",
       "        vertical-align: middle;\n",
       "    }\n",
       "\n",
       "    .dataframe tbody tr th {\n",
       "        vertical-align: top;\n",
       "    }\n",
       "\n",
       "    .dataframe thead th {\n",
       "        text-align: right;\n",
       "    }\n",
       "</style>\n",
       "<table border=\"1\" class=\"dataframe\">\n",
       "  <thead>\n",
       "    <tr style=\"text-align: right;\">\n",
       "      <th></th>\n",
       "      <th>fare_amount</th>\n",
       "      <th>pickup_longitude</th>\n",
       "      <th>pickup_latitude</th>\n",
       "      <th>dropoff_longitude</th>\n",
       "      <th>dropoff_latitude</th>\n",
       "      <th>passenger_count</th>\n",
       "      <th>pickup_hour</th>\n",
       "      <th>pickup_month</th>\n",
       "      <th>pickup_weekday</th>\n",
       "      <th>pickup_year</th>\n",
       "    </tr>\n",
       "  </thead>\n",
       "  <tbody>\n",
       "    <tr>\n",
       "      <th>0</th>\n",
       "      <td>4.5</td>\n",
       "      <td>-73.844311</td>\n",
       "      <td>40.721319</td>\n",
       "      <td>-73.841610</td>\n",
       "      <td>40.712278</td>\n",
       "      <td>1.0</td>\n",
       "      <td>17.0</td>\n",
       "      <td>6.0</td>\n",
       "      <td>1.0</td>\n",
       "      <td>2009.0</td>\n",
       "    </tr>\n",
       "    <tr>\n",
       "      <th>1</th>\n",
       "      <td>16.9</td>\n",
       "      <td>-74.016048</td>\n",
       "      <td>40.711303</td>\n",
       "      <td>-73.979268</td>\n",
       "      <td>40.782004</td>\n",
       "      <td>1.0</td>\n",
       "      <td>16.0</td>\n",
       "      <td>1.0</td>\n",
       "      <td>2.0</td>\n",
       "      <td>2010.0</td>\n",
       "    </tr>\n",
       "    <tr>\n",
       "      <th>2</th>\n",
       "      <td>5.7</td>\n",
       "      <td>-73.982738</td>\n",
       "      <td>40.761270</td>\n",
       "      <td>-73.991242</td>\n",
       "      <td>40.750562</td>\n",
       "      <td>2.0</td>\n",
       "      <td>0.0</td>\n",
       "      <td>8.0</td>\n",
       "      <td>4.0</td>\n",
       "      <td>2011.0</td>\n",
       "    </tr>\n",
       "    <tr>\n",
       "      <th>3</th>\n",
       "      <td>7.7</td>\n",
       "      <td>-73.987130</td>\n",
       "      <td>40.733143</td>\n",
       "      <td>-73.991567</td>\n",
       "      <td>40.758092</td>\n",
       "      <td>1.0</td>\n",
       "      <td>4.0</td>\n",
       "      <td>4.0</td>\n",
       "      <td>6.0</td>\n",
       "      <td>2012.0</td>\n",
       "    </tr>\n",
       "    <tr>\n",
       "      <th>4</th>\n",
       "      <td>5.3</td>\n",
       "      <td>-73.968095</td>\n",
       "      <td>40.768008</td>\n",
       "      <td>-73.956655</td>\n",
       "      <td>40.783762</td>\n",
       "      <td>1.0</td>\n",
       "      <td>7.0</td>\n",
       "      <td>3.0</td>\n",
       "      <td>2.0</td>\n",
       "      <td>2010.0</td>\n",
       "    </tr>\n",
       "  </tbody>\n",
       "</table>\n",
       "</div>"
      ],
      "text/plain": [
       "   fare_amount  pickup_longitude  pickup_latitude  dropoff_longitude  \\\n",
       "0          4.5        -73.844311        40.721319         -73.841610   \n",
       "1         16.9        -74.016048        40.711303         -73.979268   \n",
       "2          5.7        -73.982738        40.761270         -73.991242   \n",
       "3          7.7        -73.987130        40.733143         -73.991567   \n",
       "4          5.3        -73.968095        40.768008         -73.956655   \n",
       "\n",
       "   dropoff_latitude  passenger_count  pickup_hour  pickup_month  \\\n",
       "0         40.712278              1.0         17.0           6.0   \n",
       "1         40.782004              1.0         16.0           1.0   \n",
       "2         40.750562              2.0          0.0           8.0   \n",
       "3         40.758092              1.0          4.0           4.0   \n",
       "4         40.783762              1.0          7.0           3.0   \n",
       "\n",
       "   pickup_weekday  pickup_year  \n",
       "0             1.0       2009.0  \n",
       "1             2.0       2010.0  \n",
       "2             4.0       2011.0  \n",
       "3             6.0       2012.0  \n",
       "4             2.0       2010.0  "
      ]
     },
     "execution_count": 42,
     "metadata": {},
     "output_type": "execute_result"
    }
   ],
   "source": [
    "df.head()"
   ]
  },
  {
   "cell_type": "code",
   "execution_count": 43,
   "metadata": {},
   "outputs": [
    {
     "data": {
      "text/plain": [
       "fare_amount          0\n",
       "pickup_longitude     0\n",
       "pickup_latitude      0\n",
       "dropoff_longitude    0\n",
       "dropoff_latitude     0\n",
       "passenger_count      0\n",
       "pickup_hour          0\n",
       "pickup_month         0\n",
       "pickup_weekday       0\n",
       "pickup_year          0\n",
       "dtype: int64"
      ]
     },
     "execution_count": 43,
     "metadata": {},
     "output_type": "execute_result"
    }
   ],
   "source": [
    "df.isnull().sum()"
   ]
  },
  {
   "cell_type": "code",
   "execution_count": 44,
   "metadata": {},
   "outputs": [
    {
     "data": {
      "text/html": [
       "<div>\n",
       "<style scoped>\n",
       "    .dataframe tbody tr th:only-of-type {\n",
       "        vertical-align: middle;\n",
       "    }\n",
       "\n",
       "    .dataframe tbody tr th {\n",
       "        vertical-align: top;\n",
       "    }\n",
       "\n",
       "    .dataframe thead th {\n",
       "        text-align: right;\n",
       "    }\n",
       "</style>\n",
       "<table border=\"1\" class=\"dataframe\">\n",
       "  <thead>\n",
       "    <tr style=\"text-align: right;\">\n",
       "      <th></th>\n",
       "      <th>fare_amount</th>\n",
       "      <th>pickup_longitude</th>\n",
       "      <th>pickup_latitude</th>\n",
       "      <th>dropoff_longitude</th>\n",
       "      <th>dropoff_latitude</th>\n",
       "      <th>passenger_count</th>\n",
       "      <th>pickup_hour</th>\n",
       "      <th>pickup_month</th>\n",
       "      <th>pickup_weekday</th>\n",
       "      <th>pickup_year</th>\n",
       "    </tr>\n",
       "  </thead>\n",
       "  <tbody>\n",
       "    <tr>\n",
       "      <th>count</th>\n",
       "      <td>15929.000000</td>\n",
       "      <td>15929.000000</td>\n",
       "      <td>15929.000000</td>\n",
       "      <td>15929.000000</td>\n",
       "      <td>15929.000000</td>\n",
       "      <td>15929.000000</td>\n",
       "      <td>15929.000000</td>\n",
       "      <td>15929.000000</td>\n",
       "      <td>15929.000000</td>\n",
       "      <td>15929.000000</td>\n",
       "    </tr>\n",
       "    <tr>\n",
       "      <th>mean</th>\n",
       "      <td>15.057689</td>\n",
       "      <td>-72.468247</td>\n",
       "      <td>39.917744</td>\n",
       "      <td>-72.458500</td>\n",
       "      <td>39.895652</td>\n",
       "      <td>1.649633</td>\n",
       "      <td>13.493608</td>\n",
       "      <td>6.263634</td>\n",
       "      <td>4.033870</td>\n",
       "      <td>2011.731842</td>\n",
       "    </tr>\n",
       "    <tr>\n",
       "      <th>std</th>\n",
       "      <td>431.984417</td>\n",
       "      <td>10.560954</td>\n",
       "      <td>6.826427</td>\n",
       "      <td>10.588764</td>\n",
       "      <td>6.197228</td>\n",
       "      <td>1.265923</td>\n",
       "      <td>6.522473</td>\n",
       "      <td>3.446568</td>\n",
       "      <td>1.968566</td>\n",
       "      <td>1.867333</td>\n",
       "    </tr>\n",
       "    <tr>\n",
       "      <th>min</th>\n",
       "      <td>0.010000</td>\n",
       "      <td>-74.438233</td>\n",
       "      <td>-74.006893</td>\n",
       "      <td>-74.429332</td>\n",
       "      <td>-74.006377</td>\n",
       "      <td>1.000000</td>\n",
       "      <td>0.000000</td>\n",
       "      <td>1.000000</td>\n",
       "      <td>1.000000</td>\n",
       "      <td>2009.000000</td>\n",
       "    </tr>\n",
       "    <tr>\n",
       "      <th>25%</th>\n",
       "      <td>6.000000</td>\n",
       "      <td>-73.992145</td>\n",
       "      <td>40.734942</td>\n",
       "      <td>-73.991180</td>\n",
       "      <td>40.734700</td>\n",
       "      <td>1.000000</td>\n",
       "      <td>9.000000</td>\n",
       "      <td>3.000000</td>\n",
       "      <td>2.000000</td>\n",
       "      <td>2010.000000</td>\n",
       "    </tr>\n",
       "    <tr>\n",
       "      <th>50%</th>\n",
       "      <td>8.500000</td>\n",
       "      <td>-73.981673</td>\n",
       "      <td>40.752640</td>\n",
       "      <td>-73.980153</td>\n",
       "      <td>40.753574</td>\n",
       "      <td>1.000000</td>\n",
       "      <td>14.000000</td>\n",
       "      <td>6.000000</td>\n",
       "      <td>4.000000</td>\n",
       "      <td>2012.000000</td>\n",
       "    </tr>\n",
       "    <tr>\n",
       "      <th>75%</th>\n",
       "      <td>12.500000</td>\n",
       "      <td>-73.966800</td>\n",
       "      <td>40.767404</td>\n",
       "      <td>-73.963598</td>\n",
       "      <td>40.768028</td>\n",
       "      <td>2.000000</td>\n",
       "      <td>19.000000</td>\n",
       "      <td>9.000000</td>\n",
       "      <td>6.000000</td>\n",
       "      <td>2013.000000</td>\n",
       "    </tr>\n",
       "    <tr>\n",
       "      <th>max</th>\n",
       "      <td>54343.000000</td>\n",
       "      <td>40.766125</td>\n",
       "      <td>401.083332</td>\n",
       "      <td>40.802437</td>\n",
       "      <td>41.366138</td>\n",
       "      <td>6.000000</td>\n",
       "      <td>23.000000</td>\n",
       "      <td>12.000000</td>\n",
       "      <td>7.000000</td>\n",
       "      <td>2015.000000</td>\n",
       "    </tr>\n",
       "  </tbody>\n",
       "</table>\n",
       "</div>"
      ],
      "text/plain": [
       "        fare_amount  pickup_longitude  pickup_latitude  dropoff_longitude  \\\n",
       "count  15929.000000      15929.000000     15929.000000       15929.000000   \n",
       "mean      15.057689        -72.468247        39.917744         -72.458500   \n",
       "std      431.984417         10.560954         6.826427          10.588764   \n",
       "min        0.010000        -74.438233       -74.006893         -74.429332   \n",
       "25%        6.000000        -73.992145        40.734942         -73.991180   \n",
       "50%        8.500000        -73.981673        40.752640         -73.980153   \n",
       "75%       12.500000        -73.966800        40.767404         -73.963598   \n",
       "max    54343.000000         40.766125       401.083332          40.802437   \n",
       "\n",
       "       dropoff_latitude  passenger_count   pickup_hour  pickup_month  \\\n",
       "count      15929.000000     15929.000000  15929.000000  15929.000000   \n",
       "mean          39.895652         1.649633     13.493608      6.263634   \n",
       "std            6.197228         1.265923      6.522473      3.446568   \n",
       "min          -74.006377         1.000000      0.000000      1.000000   \n",
       "25%           40.734700         1.000000      9.000000      3.000000   \n",
       "50%           40.753574         1.000000     14.000000      6.000000   \n",
       "75%           40.768028         2.000000     19.000000      9.000000   \n",
       "max           41.366138         6.000000     23.000000     12.000000   \n",
       "\n",
       "       pickup_weekday   pickup_year  \n",
       "count    15929.000000  15929.000000  \n",
       "mean         4.033870   2011.731842  \n",
       "std          1.968566      1.867333  \n",
       "min          1.000000   2009.000000  \n",
       "25%          2.000000   2010.000000  \n",
       "50%          4.000000   2012.000000  \n",
       "75%          6.000000   2013.000000  \n",
       "max          7.000000   2015.000000  "
      ]
     },
     "execution_count": 44,
     "metadata": {},
     "output_type": "execute_result"
    }
   ],
   "source": [
    "df.describe()"
   ]
  },
  {
   "cell_type": "markdown",
   "metadata": {},
   "source": [
    "# Feature engineering"
   ]
  },
  {
   "cell_type": "code",
   "execution_count": 45,
   "metadata": {},
   "outputs": [],
   "source": [
    "def haversine(long1,lat1,long2,lat2):\n",
    "    phi1 = np.deg2rad(lat1)\n",
    "    phi2 = np.deg2rad(lat2)\n",
    "    delphi = np.deg2rad(lat2 - lat1)\n",
    "    dellamda = np.deg2rad(long2 - long1)\n",
    "  \n",
    "    a = np.sin(delphi/2) * np.sin(delphi/2) + np.cos(phi1) * np.cos(phi2) * np.sin(dellamda/2) * np.sin(dellamda/2)\n",
    "  \n",
    "    c = 2 * np.arctan2(np.sqrt(a),np.sqrt(1-a))\n",
    "    R = 6371\n",
    "    return R * c"
   ]
  },
  {
   "cell_type": "code",
   "execution_count": 46,
   "metadata": {},
   "outputs": [],
   "source": [
    "df[\"dist\"] = haversine(df[\"pickup_longitude\"],df[\"pickup_latitude\"],df[\"dropoff_longitude\"],df[\"dropoff_latitude\"])\n",
    "\n",
    "#Add for test set\n",
    "test[\"dist\"] = haversine(test[\"pickup_longitude\"],test[\"pickup_latitude\"],test[\"dropoff_longitude\"],test[\"dropoff_latitude\"])"
   ]
  },
  {
   "cell_type": "code",
   "execution_count": 47,
   "metadata": {},
   "outputs": [
    {
     "data": {
      "text/html": [
       "<div>\n",
       "<style scoped>\n",
       "    .dataframe tbody tr th:only-of-type {\n",
       "        vertical-align: middle;\n",
       "    }\n",
       "\n",
       "    .dataframe tbody tr th {\n",
       "        vertical-align: top;\n",
       "    }\n",
       "\n",
       "    .dataframe thead th {\n",
       "        text-align: right;\n",
       "    }\n",
       "</style>\n",
       "<table border=\"1\" class=\"dataframe\">\n",
       "  <thead>\n",
       "    <tr style=\"text-align: right;\">\n",
       "      <th></th>\n",
       "      <th>fare_amount</th>\n",
       "      <th>pickup_longitude</th>\n",
       "      <th>pickup_latitude</th>\n",
       "      <th>dropoff_longitude</th>\n",
       "      <th>dropoff_latitude</th>\n",
       "      <th>passenger_count</th>\n",
       "      <th>pickup_hour</th>\n",
       "      <th>pickup_month</th>\n",
       "      <th>pickup_weekday</th>\n",
       "      <th>pickup_year</th>\n",
       "      <th>dist</th>\n",
       "    </tr>\n",
       "  </thead>\n",
       "  <tbody>\n",
       "    <tr>\n",
       "      <th>0</th>\n",
       "      <td>4.5</td>\n",
       "      <td>-73.844311</td>\n",
       "      <td>40.721319</td>\n",
       "      <td>-73.841610</td>\n",
       "      <td>40.712278</td>\n",
       "      <td>1.0</td>\n",
       "      <td>17.0</td>\n",
       "      <td>6.0</td>\n",
       "      <td>1.0</td>\n",
       "      <td>2009.0</td>\n",
       "      <td>1.030764</td>\n",
       "    </tr>\n",
       "    <tr>\n",
       "      <th>1</th>\n",
       "      <td>16.9</td>\n",
       "      <td>-74.016048</td>\n",
       "      <td>40.711303</td>\n",
       "      <td>-73.979268</td>\n",
       "      <td>40.782004</td>\n",
       "      <td>1.0</td>\n",
       "      <td>16.0</td>\n",
       "      <td>1.0</td>\n",
       "      <td>2.0</td>\n",
       "      <td>2010.0</td>\n",
       "      <td>8.450134</td>\n",
       "    </tr>\n",
       "    <tr>\n",
       "      <th>2</th>\n",
       "      <td>5.7</td>\n",
       "      <td>-73.982738</td>\n",
       "      <td>40.761270</td>\n",
       "      <td>-73.991242</td>\n",
       "      <td>40.750562</td>\n",
       "      <td>2.0</td>\n",
       "      <td>0.0</td>\n",
       "      <td>8.0</td>\n",
       "      <td>4.0</td>\n",
       "      <td>2011.0</td>\n",
       "      <td>1.389525</td>\n",
       "    </tr>\n",
       "    <tr>\n",
       "      <th>3</th>\n",
       "      <td>7.7</td>\n",
       "      <td>-73.987130</td>\n",
       "      <td>40.733143</td>\n",
       "      <td>-73.991567</td>\n",
       "      <td>40.758092</td>\n",
       "      <td>1.0</td>\n",
       "      <td>4.0</td>\n",
       "      <td>4.0</td>\n",
       "      <td>6.0</td>\n",
       "      <td>2012.0</td>\n",
       "      <td>2.799270</td>\n",
       "    </tr>\n",
       "    <tr>\n",
       "      <th>4</th>\n",
       "      <td>5.3</td>\n",
       "      <td>-73.968095</td>\n",
       "      <td>40.768008</td>\n",
       "      <td>-73.956655</td>\n",
       "      <td>40.783762</td>\n",
       "      <td>1.0</td>\n",
       "      <td>7.0</td>\n",
       "      <td>3.0</td>\n",
       "      <td>2.0</td>\n",
       "      <td>2010.0</td>\n",
       "      <td>1.999157</td>\n",
       "    </tr>\n",
       "  </tbody>\n",
       "</table>\n",
       "</div>"
      ],
      "text/plain": [
       "   fare_amount  pickup_longitude  pickup_latitude  dropoff_longitude  \\\n",
       "0          4.5        -73.844311        40.721319         -73.841610   \n",
       "1         16.9        -74.016048        40.711303         -73.979268   \n",
       "2          5.7        -73.982738        40.761270         -73.991242   \n",
       "3          7.7        -73.987130        40.733143         -73.991567   \n",
       "4          5.3        -73.968095        40.768008         -73.956655   \n",
       "\n",
       "   dropoff_latitude  passenger_count  pickup_hour  pickup_month  \\\n",
       "0         40.712278              1.0         17.0           6.0   \n",
       "1         40.782004              1.0         16.0           1.0   \n",
       "2         40.750562              2.0          0.0           8.0   \n",
       "3         40.758092              1.0          4.0           4.0   \n",
       "4         40.783762              1.0          7.0           3.0   \n",
       "\n",
       "   pickup_weekday  pickup_year      dist  \n",
       "0             1.0       2009.0  1.030764  \n",
       "1             2.0       2010.0  8.450134  \n",
       "2             4.0       2011.0  1.389525  \n",
       "3             6.0       2012.0  2.799270  \n",
       "4             2.0       2010.0  1.999157  "
      ]
     },
     "execution_count": 47,
     "metadata": {},
     "output_type": "execute_result"
    }
   ],
   "source": [
    "df.head()"
   ]
  },
  {
   "cell_type": "code",
   "execution_count": 48,
   "metadata": {},
   "outputs": [],
   "source": [
    "df.drop([\"pickup_longitude\",\"pickup_latitude\",\"dropoff_longitude\",\"dropoff_latitude\"],axis = 1,inplace = True)\n",
    "\n",
    "#drop from test set\n",
    "test.drop([\"pickup_longitude\",\"pickup_latitude\",\"dropoff_longitude\",\"dropoff_latitude\"],axis = 1,inplace = True)"
   ]
  },
  {
   "cell_type": "code",
   "execution_count": 49,
   "metadata": {},
   "outputs": [
    {
     "data": {
      "text/html": [
       "<div>\n",
       "<style scoped>\n",
       "    .dataframe tbody tr th:only-of-type {\n",
       "        vertical-align: middle;\n",
       "    }\n",
       "\n",
       "    .dataframe tbody tr th {\n",
       "        vertical-align: top;\n",
       "    }\n",
       "\n",
       "    .dataframe thead th {\n",
       "        text-align: right;\n",
       "    }\n",
       "</style>\n",
       "<table border=\"1\" class=\"dataframe\">\n",
       "  <thead>\n",
       "    <tr style=\"text-align: right;\">\n",
       "      <th></th>\n",
       "      <th>fare_amount</th>\n",
       "      <th>passenger_count</th>\n",
       "      <th>pickup_hour</th>\n",
       "      <th>pickup_month</th>\n",
       "      <th>pickup_weekday</th>\n",
       "      <th>pickup_year</th>\n",
       "      <th>dist</th>\n",
       "    </tr>\n",
       "  </thead>\n",
       "  <tbody>\n",
       "    <tr>\n",
       "      <th>0</th>\n",
       "      <td>4.5</td>\n",
       "      <td>1.0</td>\n",
       "      <td>17.0</td>\n",
       "      <td>6.0</td>\n",
       "      <td>1.0</td>\n",
       "      <td>2009.0</td>\n",
       "      <td>1.030764</td>\n",
       "    </tr>\n",
       "    <tr>\n",
       "      <th>1</th>\n",
       "      <td>16.9</td>\n",
       "      <td>1.0</td>\n",
       "      <td>16.0</td>\n",
       "      <td>1.0</td>\n",
       "      <td>2.0</td>\n",
       "      <td>2010.0</td>\n",
       "      <td>8.450134</td>\n",
       "    </tr>\n",
       "    <tr>\n",
       "      <th>2</th>\n",
       "      <td>5.7</td>\n",
       "      <td>2.0</td>\n",
       "      <td>0.0</td>\n",
       "      <td>8.0</td>\n",
       "      <td>4.0</td>\n",
       "      <td>2011.0</td>\n",
       "      <td>1.389525</td>\n",
       "    </tr>\n",
       "    <tr>\n",
       "      <th>3</th>\n",
       "      <td>7.7</td>\n",
       "      <td>1.0</td>\n",
       "      <td>4.0</td>\n",
       "      <td>4.0</td>\n",
       "      <td>6.0</td>\n",
       "      <td>2012.0</td>\n",
       "      <td>2.799270</td>\n",
       "    </tr>\n",
       "    <tr>\n",
       "      <th>4</th>\n",
       "      <td>5.3</td>\n",
       "      <td>1.0</td>\n",
       "      <td>7.0</td>\n",
       "      <td>3.0</td>\n",
       "      <td>2.0</td>\n",
       "      <td>2010.0</td>\n",
       "      <td>1.999157</td>\n",
       "    </tr>\n",
       "  </tbody>\n",
       "</table>\n",
       "</div>"
      ],
      "text/plain": [
       "   fare_amount  passenger_count  pickup_hour  pickup_month  pickup_weekday  \\\n",
       "0          4.5              1.0         17.0           6.0             1.0   \n",
       "1         16.9              1.0         16.0           1.0             2.0   \n",
       "2          5.7              2.0          0.0           8.0             4.0   \n",
       "3          7.7              1.0          4.0           4.0             6.0   \n",
       "4          5.3              1.0          7.0           3.0             2.0   \n",
       "\n",
       "   pickup_year      dist  \n",
       "0       2009.0  1.030764  \n",
       "1       2010.0  8.450134  \n",
       "2       2011.0  1.389525  \n",
       "3       2012.0  2.799270  \n",
       "4       2010.0  1.999157  "
      ]
     },
     "execution_count": 49,
     "metadata": {},
     "output_type": "execute_result"
    }
   ],
   "source": [
    "df.head()"
   ]
  },
  {
   "cell_type": "code",
   "execution_count": 50,
   "metadata": {},
   "outputs": [],
   "source": [
    "df = df.iloc[:,[1,2,3,4,5,6,0]]"
   ]
  },
  {
   "cell_type": "code",
   "execution_count": 51,
   "metadata": {},
   "outputs": [
    {
     "data": {
      "text/html": [
       "<div>\n",
       "<style scoped>\n",
       "    .dataframe tbody tr th:only-of-type {\n",
       "        vertical-align: middle;\n",
       "    }\n",
       "\n",
       "    .dataframe tbody tr th {\n",
       "        vertical-align: top;\n",
       "    }\n",
       "\n",
       "    .dataframe thead th {\n",
       "        text-align: right;\n",
       "    }\n",
       "</style>\n",
       "<table border=\"1\" class=\"dataframe\">\n",
       "  <thead>\n",
       "    <tr style=\"text-align: right;\">\n",
       "      <th></th>\n",
       "      <th>passenger_count</th>\n",
       "      <th>pickup_hour</th>\n",
       "      <th>pickup_month</th>\n",
       "      <th>pickup_weekday</th>\n",
       "      <th>pickup_year</th>\n",
       "      <th>dist</th>\n",
       "      <th>fare_amount</th>\n",
       "    </tr>\n",
       "  </thead>\n",
       "  <tbody>\n",
       "    <tr>\n",
       "      <th>0</th>\n",
       "      <td>1.0</td>\n",
       "      <td>17.0</td>\n",
       "      <td>6.0</td>\n",
       "      <td>1.0</td>\n",
       "      <td>2009.0</td>\n",
       "      <td>1.030764</td>\n",
       "      <td>4.5</td>\n",
       "    </tr>\n",
       "    <tr>\n",
       "      <th>1</th>\n",
       "      <td>1.0</td>\n",
       "      <td>16.0</td>\n",
       "      <td>1.0</td>\n",
       "      <td>2.0</td>\n",
       "      <td>2010.0</td>\n",
       "      <td>8.450134</td>\n",
       "      <td>16.9</td>\n",
       "    </tr>\n",
       "    <tr>\n",
       "      <th>2</th>\n",
       "      <td>2.0</td>\n",
       "      <td>0.0</td>\n",
       "      <td>8.0</td>\n",
       "      <td>4.0</td>\n",
       "      <td>2011.0</td>\n",
       "      <td>1.389525</td>\n",
       "      <td>5.7</td>\n",
       "    </tr>\n",
       "    <tr>\n",
       "      <th>3</th>\n",
       "      <td>1.0</td>\n",
       "      <td>4.0</td>\n",
       "      <td>4.0</td>\n",
       "      <td>6.0</td>\n",
       "      <td>2012.0</td>\n",
       "      <td>2.799270</td>\n",
       "      <td>7.7</td>\n",
       "    </tr>\n",
       "    <tr>\n",
       "      <th>4</th>\n",
       "      <td>1.0</td>\n",
       "      <td>7.0</td>\n",
       "      <td>3.0</td>\n",
       "      <td>2.0</td>\n",
       "      <td>2010.0</td>\n",
       "      <td>1.999157</td>\n",
       "      <td>5.3</td>\n",
       "    </tr>\n",
       "  </tbody>\n",
       "</table>\n",
       "</div>"
      ],
      "text/plain": [
       "   passenger_count  pickup_hour  pickup_month  pickup_weekday  pickup_year  \\\n",
       "0              1.0         17.0           6.0             1.0       2009.0   \n",
       "1              1.0         16.0           1.0             2.0       2010.0   \n",
       "2              2.0          0.0           8.0             4.0       2011.0   \n",
       "3              1.0          4.0           4.0             6.0       2012.0   \n",
       "4              1.0          7.0           3.0             2.0       2010.0   \n",
       "\n",
       "       dist  fare_amount  \n",
       "0  1.030764          4.5  \n",
       "1  8.450134         16.9  \n",
       "2  1.389525          5.7  \n",
       "3  2.799270          7.7  \n",
       "4  1.999157          5.3  "
      ]
     },
     "execution_count": 51,
     "metadata": {},
     "output_type": "execute_result"
    }
   ],
   "source": [
    "df.head()"
   ]
  },
  {
   "cell_type": "code",
   "execution_count": 52,
   "metadata": {},
   "outputs": [
    {
     "data": {
      "text/html": [
       "<div>\n",
       "<style scoped>\n",
       "    .dataframe tbody tr th:only-of-type {\n",
       "        vertical-align: middle;\n",
       "    }\n",
       "\n",
       "    .dataframe tbody tr th {\n",
       "        vertical-align: top;\n",
       "    }\n",
       "\n",
       "    .dataframe thead th {\n",
       "        text-align: right;\n",
       "    }\n",
       "</style>\n",
       "<table border=\"1\" class=\"dataframe\">\n",
       "  <thead>\n",
       "    <tr style=\"text-align: right;\">\n",
       "      <th></th>\n",
       "      <th>passenger_count</th>\n",
       "      <th>pickup_hour</th>\n",
       "      <th>pickup_month</th>\n",
       "      <th>pickup_weekday</th>\n",
       "      <th>pickup_year</th>\n",
       "      <th>dist</th>\n",
       "      <th>fare_amount</th>\n",
       "    </tr>\n",
       "  </thead>\n",
       "  <tbody>\n",
       "    <tr>\n",
       "      <th>count</th>\n",
       "      <td>15929.000000</td>\n",
       "      <td>15929.000000</td>\n",
       "      <td>15929.000000</td>\n",
       "      <td>15929.000000</td>\n",
       "      <td>15929.000000</td>\n",
       "      <td>15929.000000</td>\n",
       "      <td>15929.000000</td>\n",
       "    </tr>\n",
       "    <tr>\n",
       "      <th>mean</th>\n",
       "      <td>1.649633</td>\n",
       "      <td>13.493608</td>\n",
       "      <td>6.263634</td>\n",
       "      <td>4.033870</td>\n",
       "      <td>2011.731842</td>\n",
       "      <td>15.052597</td>\n",
       "      <td>15.057689</td>\n",
       "    </tr>\n",
       "    <tr>\n",
       "      <th>std</th>\n",
       "      <td>1.265923</td>\n",
       "      <td>6.522473</td>\n",
       "      <td>3.446568</td>\n",
       "      <td>1.968566</td>\n",
       "      <td>1.867333</td>\n",
       "      <td>311.468509</td>\n",
       "      <td>431.984417</td>\n",
       "    </tr>\n",
       "    <tr>\n",
       "      <th>min</th>\n",
       "      <td>1.000000</td>\n",
       "      <td>0.000000</td>\n",
       "      <td>1.000000</td>\n",
       "      <td>1.000000</td>\n",
       "      <td>2009.000000</td>\n",
       "      <td>0.000000</td>\n",
       "      <td>0.010000</td>\n",
       "    </tr>\n",
       "    <tr>\n",
       "      <th>25%</th>\n",
       "      <td>1.000000</td>\n",
       "      <td>9.000000</td>\n",
       "      <td>3.000000</td>\n",
       "      <td>2.000000</td>\n",
       "      <td>2010.000000</td>\n",
       "      <td>1.214832</td>\n",
       "      <td>6.000000</td>\n",
       "    </tr>\n",
       "    <tr>\n",
       "      <th>50%</th>\n",
       "      <td>1.000000</td>\n",
       "      <td>14.000000</td>\n",
       "      <td>6.000000</td>\n",
       "      <td>4.000000</td>\n",
       "      <td>2012.000000</td>\n",
       "      <td>2.125955</td>\n",
       "      <td>8.500000</td>\n",
       "    </tr>\n",
       "    <tr>\n",
       "      <th>75%</th>\n",
       "      <td>2.000000</td>\n",
       "      <td>19.000000</td>\n",
       "      <td>9.000000</td>\n",
       "      <td>6.000000</td>\n",
       "      <td>2013.000000</td>\n",
       "      <td>3.855249</td>\n",
       "      <td>12.500000</td>\n",
       "    </tr>\n",
       "    <tr>\n",
       "      <th>max</th>\n",
       "      <td>6.000000</td>\n",
       "      <td>23.000000</td>\n",
       "      <td>12.000000</td>\n",
       "      <td>7.000000</td>\n",
       "      <td>2015.000000</td>\n",
       "      <td>8667.542104</td>\n",
       "      <td>54343.000000</td>\n",
       "    </tr>\n",
       "  </tbody>\n",
       "</table>\n",
       "</div>"
      ],
      "text/plain": [
       "       passenger_count   pickup_hour  pickup_month  pickup_weekday  \\\n",
       "count     15929.000000  15929.000000  15929.000000    15929.000000   \n",
       "mean          1.649633     13.493608      6.263634        4.033870   \n",
       "std           1.265923      6.522473      3.446568        1.968566   \n",
       "min           1.000000      0.000000      1.000000        1.000000   \n",
       "25%           1.000000      9.000000      3.000000        2.000000   \n",
       "50%           1.000000     14.000000      6.000000        4.000000   \n",
       "75%           2.000000     19.000000      9.000000        6.000000   \n",
       "max           6.000000     23.000000     12.000000        7.000000   \n",
       "\n",
       "        pickup_year          dist   fare_amount  \n",
       "count  15929.000000  15929.000000  15929.000000  \n",
       "mean    2011.731842     15.052597     15.057689  \n",
       "std        1.867333    311.468509    431.984417  \n",
       "min     2009.000000      0.000000      0.010000  \n",
       "25%     2010.000000      1.214832      6.000000  \n",
       "50%     2012.000000      2.125955      8.500000  \n",
       "75%     2013.000000      3.855249     12.500000  \n",
       "max     2015.000000   8667.542104  54343.000000  "
      ]
     },
     "execution_count": 52,
     "metadata": {},
     "output_type": "execute_result"
    }
   ],
   "source": [
    "df.describe()"
   ]
  },
  {
   "cell_type": "code",
   "execution_count": 53,
   "metadata": {},
   "outputs": [],
   "source": [
    "#remove rows having distance 0\n",
    "df = df[df[\"dist\"] != 0]"
   ]
  },
  {
   "cell_type": "code",
   "execution_count": 54,
   "metadata": {},
   "outputs": [
    {
     "data": {
      "text/plain": [
       "(15473, 7)"
      ]
     },
     "execution_count": 54,
     "metadata": {},
     "output_type": "execute_result"
    }
   ],
   "source": [
    "df.shape"
   ]
  },
  {
   "cell_type": "code",
   "execution_count": 55,
   "metadata": {},
   "outputs": [
    {
     "data": {
      "text/html": [
       "<div>\n",
       "<style scoped>\n",
       "    .dataframe tbody tr th:only-of-type {\n",
       "        vertical-align: middle;\n",
       "    }\n",
       "\n",
       "    .dataframe tbody tr th {\n",
       "        vertical-align: top;\n",
       "    }\n",
       "\n",
       "    .dataframe thead th {\n",
       "        text-align: right;\n",
       "    }\n",
       "</style>\n",
       "<table border=\"1\" class=\"dataframe\">\n",
       "  <thead>\n",
       "    <tr style=\"text-align: right;\">\n",
       "      <th></th>\n",
       "      <th>passenger_count</th>\n",
       "      <th>pickup_hour</th>\n",
       "      <th>pickup_month</th>\n",
       "      <th>pickup_weekday</th>\n",
       "      <th>pickup_year</th>\n",
       "      <th>dist</th>\n",
       "      <th>fare_amount</th>\n",
       "    </tr>\n",
       "  </thead>\n",
       "  <tbody>\n",
       "    <tr>\n",
       "      <th>count</th>\n",
       "      <td>15473.000000</td>\n",
       "      <td>15473.000000</td>\n",
       "      <td>15473.000000</td>\n",
       "      <td>15473.000000</td>\n",
       "      <td>15473.000000</td>\n",
       "      <td>15473.000000</td>\n",
       "      <td>15473.000000</td>\n",
       "    </tr>\n",
       "    <tr>\n",
       "      <th>mean</th>\n",
       "      <td>1.651781</td>\n",
       "      <td>13.500206</td>\n",
       "      <td>6.270370</td>\n",
       "      <td>4.035902</td>\n",
       "      <td>2011.740484</td>\n",
       "      <td>15.496207</td>\n",
       "      <td>15.167526</td>\n",
       "    </tr>\n",
       "    <tr>\n",
       "      <th>std</th>\n",
       "      <td>1.267631</td>\n",
       "      <td>6.510472</td>\n",
       "      <td>3.446388</td>\n",
       "      <td>1.969508</td>\n",
       "      <td>1.871195</td>\n",
       "      <td>316.014195</td>\n",
       "      <td>438.296414</td>\n",
       "    </tr>\n",
       "    <tr>\n",
       "      <th>min</th>\n",
       "      <td>1.000000</td>\n",
       "      <td>0.000000</td>\n",
       "      <td>1.000000</td>\n",
       "      <td>1.000000</td>\n",
       "      <td>2009.000000</td>\n",
       "      <td>0.000111</td>\n",
       "      <td>0.010000</td>\n",
       "    </tr>\n",
       "    <tr>\n",
       "      <th>25%</th>\n",
       "      <td>1.000000</td>\n",
       "      <td>9.000000</td>\n",
       "      <td>3.000000</td>\n",
       "      <td>2.000000</td>\n",
       "      <td>2010.000000</td>\n",
       "      <td>1.278201</td>\n",
       "      <td>6.000000</td>\n",
       "    </tr>\n",
       "    <tr>\n",
       "      <th>50%</th>\n",
       "      <td>1.000000</td>\n",
       "      <td>14.000000</td>\n",
       "      <td>6.000000</td>\n",
       "      <td>4.000000</td>\n",
       "      <td>2012.000000</td>\n",
       "      <td>2.196146</td>\n",
       "      <td>8.500000</td>\n",
       "    </tr>\n",
       "    <tr>\n",
       "      <th>75%</th>\n",
       "      <td>2.000000</td>\n",
       "      <td>19.000000</td>\n",
       "      <td>9.000000</td>\n",
       "      <td>6.000000</td>\n",
       "      <td>2013.000000</td>\n",
       "      <td>3.949361</td>\n",
       "      <td>12.500000</td>\n",
       "    </tr>\n",
       "    <tr>\n",
       "      <th>max</th>\n",
       "      <td>6.000000</td>\n",
       "      <td>23.000000</td>\n",
       "      <td>12.000000</td>\n",
       "      <td>7.000000</td>\n",
       "      <td>2015.000000</td>\n",
       "      <td>8667.542104</td>\n",
       "      <td>54343.000000</td>\n",
       "    </tr>\n",
       "  </tbody>\n",
       "</table>\n",
       "</div>"
      ],
      "text/plain": [
       "       passenger_count   pickup_hour  pickup_month  pickup_weekday  \\\n",
       "count     15473.000000  15473.000000  15473.000000    15473.000000   \n",
       "mean          1.651781     13.500206      6.270370        4.035902   \n",
       "std           1.267631      6.510472      3.446388        1.969508   \n",
       "min           1.000000      0.000000      1.000000        1.000000   \n",
       "25%           1.000000      9.000000      3.000000        2.000000   \n",
       "50%           1.000000     14.000000      6.000000        4.000000   \n",
       "75%           2.000000     19.000000      9.000000        6.000000   \n",
       "max           6.000000     23.000000     12.000000        7.000000   \n",
       "\n",
       "        pickup_year          dist   fare_amount  \n",
       "count  15473.000000  15473.000000  15473.000000  \n",
       "mean    2011.740484     15.496207     15.167526  \n",
       "std        1.871195    316.014195    438.296414  \n",
       "min     2009.000000      0.000111      0.010000  \n",
       "25%     2010.000000      1.278201      6.000000  \n",
       "50%     2012.000000      2.196146      8.500000  \n",
       "75%     2013.000000      3.949361     12.500000  \n",
       "max     2015.000000   8667.542104  54343.000000  "
      ]
     },
     "execution_count": 55,
     "metadata": {},
     "output_type": "execute_result"
    }
   ],
   "source": [
    "df.describe()"
   ]
  },
  {
   "cell_type": "markdown",
   "metadata": {},
   "source": [
    "# Outlier analysis"
   ]
  },
  {
   "cell_type": "code",
   "execution_count": 56,
   "metadata": {},
   "outputs": [],
   "source": [
    "cnames = [\"dist\",\"fare_amount\"]"
   ]
  },
  {
   "cell_type": "code",
   "execution_count": 57,
   "metadata": {},
   "outputs": [],
   "source": [
    "q25 = np.percentile(df[\"dist\"],25)"
   ]
  },
  {
   "cell_type": "code",
   "execution_count": 58,
   "metadata": {},
   "outputs": [
    {
     "name": "stdout",
     "output_type": "stream",
     "text": [
      "AxesSubplot(0.125,0.536818;0.775x0.343182)\n",
      "AxesSubplot(0.125,0.125;0.775x0.343182)\n"
     ]
    },
    {
     "data": {
      "image/png": "[encoded data removed]",
      "text/plain": [
       "<Figure size 720x720 with 2 Axes>"
      ]
     },
     "metadata": {},
     "output_type": "display_data"
    }
   ],
   "source": [
    "fig,ax = plt.subplots(2,figsize = (10,10))\n",
    "for i in range(0,len(cnames)):\n",
    "    print(sns.boxplot(y=cnames[i],x=\"passenger_count\",data=df,ax=ax[i]))"
   ]
  },
  {
   "cell_type": "code",
   "execution_count": 59,
   "metadata": {},
   "outputs": [],
   "source": [
    "for i in cnames:\n",
    "    q75 = np.percentile(df[i],75)\n",
    "    q25 = np.percentile(df[i],25)\n",
    "    iqr = q75 - q25\n",
    "    maximum = q75 + (1.5 * iqr)\n",
    "    minimum = q25 - (1.5 * iqr)\n",
    "    \n",
    "    df.loc[df[i] > maximum,i] = np.NaN\n",
    "    df.loc[df[i] < minimum,i] = np.NAN"
   ]
  },
  {
   "cell_type": "code",
   "execution_count": 60,
   "metadata": {},
   "outputs": [
    {
     "data": {
      "text/plain": [
       "passenger_count       0\n",
       "pickup_hour           0\n",
       "pickup_month          0\n",
       "pickup_weekday        0\n",
       "pickup_year           0\n",
       "dist               1351\n",
       "fare_amount        1349\n",
       "dtype: int64"
      ]
     },
     "execution_count": 60,
     "metadata": {},
     "output_type": "execute_result"
    }
   ],
   "source": [
    "#missing values\n",
    "df.isnull().sum()"
   ]
  },
  {
   "cell_type": "code",
   "execution_count": 61,
   "metadata": {},
   "outputs": [
    {
     "name": "stdout",
     "output_type": "stream",
     "text": [
      "Imputing row 1/15473 with 0 missing, elapsed time: 71.238\n",
      "Imputing row 101/15473 with 0 missing, elapsed time: 72.508\n",
      "Imputing row 201/15473 with 0 missing, elapsed time: 72.517\n",
      "Imputing row 301/15473 with 0 missing, elapsed time: 72.524\n",
      "Imputing row 401/15473 with 0 missing, elapsed time: 72.529\n",
      "Imputing row 501/15473 with 1 missing, elapsed time: 72.536\n",
      "Imputing row 601/15473 with 0 missing, elapsed time: 72.541\n",
      "Imputing row 701/15473 with 2 missing, elapsed time: 72.549\n",
      "Imputing row 801/15473 with 0 missing, elapsed time: 72.557\n",
      "Imputing row 901/15473 with 0 missing, elapsed time: 72.559\n",
      "Imputing row 1001/15473 with 0 missing, elapsed time: 72.565\n",
      "Imputing row 1101/15473 with 0 missing, elapsed time: 72.570\n",
      "Imputing row 1201/15473 with 0 missing, elapsed time: 72.576\n",
      "Imputing row 1301/15473 with 0 missing, elapsed time: 72.581\n",
      "Imputing row 1401/15473 with 0 missing, elapsed time: 72.589\n",
      "Imputing row 1501/15473 with 0 missing, elapsed time: 72.594\n",
      "Imputing row 1601/15473 with 0 missing, elapsed time: 72.599\n",
      "Imputing row 1701/15473 with 0 missing, elapsed time: 72.607\n",
      "Imputing row 1801/15473 with 0 missing, elapsed time: 72.612\n",
      "Imputing row 1901/15473 with 0 missing, elapsed time: 72.620\n",
      "Imputing row 2001/15473 with 2 missing, elapsed time: 72.626\n",
      "Imputing row 2101/15473 with 2 missing, elapsed time: 72.635\n",
      "Imputing row 2201/15473 with 0 missing, elapsed time: 72.641\n",
      "Imputing row 2301/15473 with 0 missing, elapsed time: 72.649\n",
      "Imputing row 2401/15473 with 0 missing, elapsed time: 72.655\n",
      "Imputing row 2501/15473 with 0 missing, elapsed time: 72.661\n",
      "Imputing row 2601/15473 with 0 missing, elapsed time: 72.666\n",
      "Imputing row 2701/15473 with 0 missing, elapsed time: 72.675\n",
      "Imputing row 2801/15473 with 0 missing, elapsed time: 72.679\n",
      "Imputing row 2901/15473 with 0 missing, elapsed time: 72.683\n",
      "Imputing row 3001/15473 with 0 missing, elapsed time: 72.688\n",
      "Imputing row 3101/15473 with 0 missing, elapsed time: 72.695\n",
      "Imputing row 3201/15473 with 0 missing, elapsed time: 72.703\n",
      "Imputing row 3301/15473 with 0 missing, elapsed time: 72.710\n",
      "Imputing row 3401/15473 with 0 missing, elapsed time: 72.717\n",
      "Imputing row 3501/15473 with 0 missing, elapsed time: 72.720\n",
      "Imputing row 3601/15473 with 0 missing, elapsed time: 72.726\n",
      "Imputing row 3701/15473 with 0 missing, elapsed time: 72.730\n",
      "Imputing row 3801/15473 with 0 missing, elapsed time: 72.734\n",
      "Imputing row 3901/15473 with 0 missing, elapsed time: 72.741\n",
      "Imputing row 4001/15473 with 0 missing, elapsed time: 72.746\n",
      "Imputing row 4101/15473 with 0 missing, elapsed time: 72.753\n",
      "Imputing row 4201/15473 with 2 missing, elapsed time: 72.760\n",
      "Imputing row 4301/15473 with 2 missing, elapsed time: 72.769\n",
      "Imputing row 4401/15473 with 0 missing, elapsed time: 72.778\n",
      "Imputing row 4501/15473 with 0 missing, elapsed time: 72.787\n",
      "Imputing row 4601/15473 with 0 missing, elapsed time: 72.793\n",
      "Imputing row 4701/15473 with 0 missing, elapsed time: 72.798\n",
      "Imputing row 4801/15473 with 0 missing, elapsed time: 72.804\n",
      "Imputing row 4901/15473 with 0 missing, elapsed time: 72.809\n",
      "Imputing row 5001/15473 with 0 missing, elapsed time: 72.814\n",
      "Imputing row 5101/15473 with 0 missing, elapsed time: 72.820\n",
      "Imputing row 5201/15473 with 0 missing, elapsed time: 72.824\n",
      "Imputing row 5301/15473 with 0 missing, elapsed time: 72.827\n",
      "Imputing row 5401/15473 with 2 missing, elapsed time: 72.833\n",
      "Imputing row 5501/15473 with 0 missing, elapsed time: 72.843\n",
      "Imputing row 5601/15473 with 0 missing, elapsed time: 72.848\n",
      "Imputing row 5701/15473 with 0 missing, elapsed time: 72.852\n",
      "Imputing row 5801/15473 with 0 missing, elapsed time: 72.855\n",
      "Imputing row 5901/15473 with 0 missing, elapsed time: 72.862\n",
      "Imputing row 6001/15473 with 0 missing, elapsed time: 72.872\n",
      "Imputing row 6101/15473 with 0 missing, elapsed time: 72.880\n",
      "Imputing row 6201/15473 with 0 missing, elapsed time: 73.014\n",
      "Imputing row 6301/15473 with 0 missing, elapsed time: 73.022\n",
      "Imputing row 6401/15473 with 0 missing, elapsed time: 73.026\n",
      "Imputing row 6501/15473 with 0 missing, elapsed time: 73.033\n",
      "Imputing row 6601/15473 with 0 missing, elapsed time: 73.039\n",
      "Imputing row 6701/15473 with 0 missing, elapsed time: 73.046\n",
      "Imputing row 6801/15473 with 0 missing, elapsed time: 73.053\n",
      "Imputing row 6901/15473 with 0 missing, elapsed time: 73.058\n",
      "Imputing row 7001/15473 with 0 missing, elapsed time: 73.063\n",
      "Imputing row 7101/15473 with 0 missing, elapsed time: 73.069\n",
      "Imputing row 7201/15473 with 2 missing, elapsed time: 73.075\n",
      "Imputing row 7301/15473 with 0 missing, elapsed time: 73.081\n",
      "Imputing row 7401/15473 with 0 missing, elapsed time: 73.086\n",
      "Imputing row 7501/15473 with 2 missing, elapsed time: 73.093\n",
      "Imputing row 7601/15473 with 0 missing, elapsed time: 73.097\n",
      "Imputing row 7701/15473 with 0 missing, elapsed time: 73.104\n",
      "Imputing row 7801/15473 with 0 missing, elapsed time: 73.111\n",
      "Imputing row 7901/15473 with 1 missing, elapsed time: 73.117\n",
      "Imputing row 8001/15473 with 0 missing, elapsed time: 73.121\n",
      "Imputing row 8101/15473 with 0 missing, elapsed time: 73.127\n",
      "Imputing row 8201/15473 with 0 missing, elapsed time: 73.135\n",
      "Imputing row 8301/15473 with 0 missing, elapsed time: 73.140\n",
      "Imputing row 8401/15473 with 0 missing, elapsed time: 73.145\n",
      "Imputing row 8501/15473 with 0 missing, elapsed time: 73.148\n",
      "Imputing row 8601/15473 with 0 missing, elapsed time: 73.155\n",
      "Imputing row 8701/15473 with 0 missing, elapsed time: 73.162\n",
      "Imputing row 8801/15473 with 1 missing, elapsed time: 73.168\n",
      "Imputing row 8901/15473 with 1 missing, elapsed time: 73.173\n",
      "Imputing row 9001/15473 with 0 missing, elapsed time: 73.177\n",
      "Imputing row 9101/15473 with 0 missing, elapsed time: 73.180\n",
      "Imputing row 9201/15473 with 0 missing, elapsed time: 73.182\n",
      "Imputing row 9301/15473 with 0 missing, elapsed time: 73.186\n",
      "Imputing row 9401/15473 with 0 missing, elapsed time: 73.192\n",
      "Imputing row 9501/15473 with 0 missing, elapsed time: 73.199\n",
      "Imputing row 9601/15473 with 0 missing, elapsed time: 73.204\n",
      "Imputing row 9701/15473 with 0 missing, elapsed time: 73.211\n",
      "Imputing row 9801/15473 with 0 missing, elapsed time: 73.216\n",
      "Imputing row 9901/15473 with 0 missing, elapsed time: 73.221\n",
      "Imputing row 10001/15473 with 0 missing, elapsed time: 73.224\n",
      "Imputing row 10101/15473 with 0 missing, elapsed time: 73.230\n",
      "Imputing row 10201/15473 with 0 missing, elapsed time: 73.237\n",
      "Imputing row 10301/15473 with 0 missing, elapsed time: 73.244\n",
      "Imputing row 10401/15473 with 0 missing, elapsed time: 73.248\n",
      "Imputing row 10501/15473 with 0 missing, elapsed time: 73.252\n",
      "Imputing row 10601/15473 with 0 missing, elapsed time: 73.258\n",
      "Imputing row 10701/15473 with 0 missing, elapsed time: 73.260\n",
      "Imputing row 10801/15473 with 0 missing, elapsed time: 73.264\n",
      "Imputing row 10901/15473 with 0 missing, elapsed time: 73.270\n",
      "Imputing row 11001/15473 with 0 missing, elapsed time: 73.273\n",
      "Imputing row 11101/15473 with 0 missing, elapsed time: 73.278\n",
      "Imputing row 11201/15473 with 0 missing, elapsed time: 73.284\n",
      "Imputing row 11301/15473 with 0 missing, elapsed time: 73.292\n",
      "Imputing row 11401/15473 with 0 missing, elapsed time: 73.298\n",
      "Imputing row 11501/15473 with 0 missing, elapsed time: 73.300\n",
      "Imputing row 11601/15473 with 0 missing, elapsed time: 73.306\n",
      "Imputing row 11701/15473 with 0 missing, elapsed time: 73.311\n",
      "Imputing row 11801/15473 with 0 missing, elapsed time: 73.315\n",
      "Imputing row 11901/15473 with 0 missing, elapsed time: 73.323\n",
      "Imputing row 12001/15473 with 0 missing, elapsed time: 73.328\n",
      "Imputing row 12101/15473 with 0 missing, elapsed time: 73.330\n",
      "Imputing row 12201/15473 with 0 missing, elapsed time: 73.335\n",
      "Imputing row 12301/15473 with 0 missing, elapsed time: 73.338\n",
      "Imputing row 12401/15473 with 0 missing, elapsed time: 73.342\n",
      "Imputing row 12501/15473 with 0 missing, elapsed time: 73.347\n",
      "Imputing row 12601/15473 with 0 missing, elapsed time: 73.353\n",
      "Imputing row 12701/15473 with 0 missing, elapsed time: 73.357\n",
      "Imputing row 12801/15473 with 0 missing, elapsed time: 73.361\n",
      "Imputing row 12901/15473 with 1 missing, elapsed time: 73.365\n",
      "Imputing row 13001/15473 with 0 missing, elapsed time: 73.370\n",
      "Imputing row 13101/15473 with 0 missing, elapsed time: 73.375\n",
      "Imputing row 13201/15473 with 0 missing, elapsed time: 73.380\n",
      "Imputing row 13301/15473 with 0 missing, elapsed time: 73.389\n",
      "Imputing row 13401/15473 with 0 missing, elapsed time: 73.394\n",
      "Imputing row 13501/15473 with 0 missing, elapsed time: 73.399\n",
      "Imputing row 13601/15473 with 0 missing, elapsed time: 73.404\n",
      "Imputing row 13701/15473 with 2 missing, elapsed time: 73.408\n",
      "Imputing row 13801/15473 with 0 missing, elapsed time: 73.413\n",
      "Imputing row 13901/15473 with 1 missing, elapsed time: 73.417\n",
      "Imputing row 14001/15473 with 0 missing, elapsed time: 73.424\n",
      "Imputing row 14101/15473 with 0 missing, elapsed time: 73.430\n",
      "Imputing row 14201/15473 with 0 missing, elapsed time: 73.434\n",
      "Imputing row 14301/15473 with 0 missing, elapsed time: 73.439\n",
      "Imputing row 14401/15473 with 0 missing, elapsed time: 73.444\n",
      "Imputing row 14501/15473 with 0 missing, elapsed time: 73.450\n",
      "Imputing row 14601/15473 with 0 missing, elapsed time: 73.455\n",
      "Imputing row 14701/15473 with 0 missing, elapsed time: 73.460\n",
      "Imputing row 14801/15473 with 0 missing, elapsed time: 73.464\n",
      "Imputing row 14901/15473 with 0 missing, elapsed time: 73.469\n",
      "Imputing row 15001/15473 with 0 missing, elapsed time: 73.475\n",
      "Imputing row 15101/15473 with 0 missing, elapsed time: 73.486\n",
      "Imputing row 15201/15473 with 2 missing, elapsed time: 73.493\n",
      "Imputing row 15301/15473 with 0 missing, elapsed time: 73.499\n",
      "Imputing row 15401/15473 with 0 missing, elapsed time: 73.505\n"
     ]
    }
   ],
   "source": [
    "df = pd.DataFrame(KNN(k=2).fit_transform(df),columns = df.columns)"
   ]
  },
  {
   "cell_type": "code",
   "execution_count": 62,
   "metadata": {},
   "outputs": [
    {
     "name": "stdout",
     "output_type": "stream",
     "text": [
      "(array([2.000e+00, 1.016e+03, 4.446e+03, 3.325e+03, 2.767e+03, 1.418e+03,\n",
      "       9.290e+02, 7.600e+02, 4.550e+02, 3.550e+02]), array([1.0000e-02, 2.2190e+00, 4.4280e+00, 6.6370e+00, 8.8460e+00,\n",
      "       1.1055e+01, 1.3264e+01, 1.5473e+01, 1.7682e+01, 1.9891e+01,\n",
      "       2.2100e+01]), <a list of 10 Patch objects>)\n"
     ]
    },
    {
     "data": {
      "image/png": "[encoded data removed]",
      "text/plain": [
       "<Figure size 432x288 with 1 Axes>"
      ]
     },
     "metadata": {},
     "output_type": "display_data"
    }
   ],
   "source": [
    "print(plt.hist(df.fare_amount))"
   ]
  },
  {
   "cell_type": "markdown",
   "metadata": {},
   "source": [
    "# Feature selection"
   ]
  },
  {
   "cell_type": "code",
   "execution_count": 63,
   "metadata": {},
   "outputs": [
    {
     "data": {
      "text/plain": [
       "<matplotlib.axes._subplots.AxesSubplot at 0x16b401bc630>"
      ]
     },
     "execution_count": 63,
     "metadata": {},
     "output_type": "execute_result"
    },
    {
     "data": {
      "image/png": "[encoded data removed]",
      "text/plain": [
       "<Figure size 864x504 with 2 Axes>"
      ]
     },
     "metadata": {},
     "output_type": "display_data"
    }
   ],
   "source": [
    "df_corr = df.loc[:,cnames]\n",
    "\n",
    "#Set the width and height of the plot\n",
    "f, ax = plt.subplots(figsize=(12, 7))\n",
    "\n",
    "#Generate correlation matrix\n",
    "corr = df_corr.corr()\n",
    "\n",
    "#Plot using seaborn library\n",
    "\n",
    "sns.heatmap(corr, mask=np.zeros_like(corr, dtype=np.bool), cmap='coolwarm',square = True,linewidths = 1,ax=ax,annot =True)"
   ]
  },
  {
   "cell_type": "code",
   "execution_count": 64,
   "metadata": {},
   "outputs": [
    {
     "data": {
      "text/html": [
       "<div>\n",
       "<style scoped>\n",
       "    .dataframe tbody tr th:only-of-type {\n",
       "        vertical-align: middle;\n",
       "    }\n",
       "\n",
       "    .dataframe tbody tr th {\n",
       "        vertical-align: top;\n",
       "    }\n",
       "\n",
       "    .dataframe thead th {\n",
       "        text-align: right;\n",
       "    }\n",
       "</style>\n",
       "<table border=\"1\" class=\"dataframe\">\n",
       "  <thead>\n",
       "    <tr style=\"text-align: right;\">\n",
       "      <th></th>\n",
       "      <th>df</th>\n",
       "      <th>sum_sq</th>\n",
       "      <th>mean_sq</th>\n",
       "      <th>F</th>\n",
       "      <th>PR(&gt;F)</th>\n",
       "    </tr>\n",
       "  </thead>\n",
       "  <tbody>\n",
       "    <tr>\n",
       "      <th>C(pickup_hour)</th>\n",
       "      <td>24.0</td>\n",
       "      <td>2119.096101</td>\n",
       "      <td>88.295671</td>\n",
       "      <td>5.255159</td>\n",
       "      <td>9.259588e-16</td>\n",
       "    </tr>\n",
       "    <tr>\n",
       "      <th>C(pickup_weekday)</th>\n",
       "      <td>7.0</td>\n",
       "      <td>145.267754</td>\n",
       "      <td>20.752536</td>\n",
       "      <td>1.235144</td>\n",
       "      <td>2.791590e-01</td>\n",
       "    </tr>\n",
       "    <tr>\n",
       "      <th>C(pickup_month)</th>\n",
       "      <td>12.0</td>\n",
       "      <td>683.774301</td>\n",
       "      <td>56.981192</td>\n",
       "      <td>3.391392</td>\n",
       "      <td>5.592447e-05</td>\n",
       "    </tr>\n",
       "    <tr>\n",
       "      <th>C(pickup_year)</th>\n",
       "      <td>7.0</td>\n",
       "      <td>7353.415518</td>\n",
       "      <td>1050.487931</td>\n",
       "      <td>62.522671</td>\n",
       "      <td>3.897922e-89</td>\n",
       "    </tr>\n",
       "    <tr>\n",
       "      <th>C(passenger_count)</th>\n",
       "      <td>5.0</td>\n",
       "      <td>174.196960</td>\n",
       "      <td>34.839392</td>\n",
       "      <td>2.073562</td>\n",
       "      <td>6.552123e-02</td>\n",
       "    </tr>\n",
       "    <tr>\n",
       "      <th>Residual</th>\n",
       "      <td>15420.0</td>\n",
       "      <td>259082.401910</td>\n",
       "      <td>16.801712</td>\n",
       "      <td>NaN</td>\n",
       "      <td>NaN</td>\n",
       "    </tr>\n",
       "  </tbody>\n",
       "</table>\n",
       "</div>"
      ],
      "text/plain": [
       "                         df         sum_sq      mean_sq          F  \\\n",
       "C(pickup_hour)         24.0    2119.096101    88.295671   5.255159   \n",
       "C(pickup_weekday)       7.0     145.267754    20.752536   1.235144   \n",
       "C(pickup_month)        12.0     683.774301    56.981192   3.391392   \n",
       "C(pickup_year)          7.0    7353.415518  1050.487931  62.522671   \n",
       "C(passenger_count)      5.0     174.196960    34.839392   2.073562   \n",
       "Residual            15420.0  259082.401910    16.801712        NaN   \n",
       "\n",
       "                          PR(>F)  \n",
       "C(pickup_hour)      9.259588e-16  \n",
       "C(pickup_weekday)   2.791590e-01  \n",
       "C(pickup_month)     5.592447e-05  \n",
       "C(pickup_year)      3.897922e-89  \n",
       "C(passenger_count)  6.552123e-02  \n",
       "Residual                     NaN  "
      ]
     },
     "execution_count": 64,
     "metadata": {},
     "output_type": "execute_result"
    }
   ],
   "source": [
    "#ANOVA\n",
    "import statsmodels.api as sm\n",
    "from statsmodels.formula.api import ols\n",
    " \n",
    "model = ols('fare_amount ~ C(pickup_hour) + C(pickup_weekday) + C(pickup_month) + C(pickup_year) + C(passenger_count)',\n",
    "                data=df).fit()\n",
    "                \n",
    "aov_table = sm.stats.anova_lm(model)\n",
    "aov_table\n",
    "#aov_table.summary()"
   ]
  },
  {
   "cell_type": "code",
   "execution_count": 65,
   "metadata": {},
   "outputs": [],
   "source": [
    "#remove pickup_weekday\n",
    "df.drop([\"pickup_weekday\"],axis = 1,inplace = True)\n",
    "\n",
    "#drop from test set\n",
    "test.drop([\"pickup_weekday\"],axis = 1,inplace = True)"
   ]
  },
  {
   "cell_type": "code",
   "execution_count": 66,
   "metadata": {},
   "outputs": [
    {
     "data": {
      "text/html": [
       "<div>\n",
       "<style scoped>\n",
       "    .dataframe tbody tr th:only-of-type {\n",
       "        vertical-align: middle;\n",
       "    }\n",
       "\n",
       "    .dataframe tbody tr th {\n",
       "        vertical-align: top;\n",
       "    }\n",
       "\n",
       "    .dataframe thead th {\n",
       "        text-align: right;\n",
       "    }\n",
       "</style>\n",
       "<table border=\"1\" class=\"dataframe\">\n",
       "  <thead>\n",
       "    <tr style=\"text-align: right;\">\n",
       "      <th></th>\n",
       "      <th>passenger_count</th>\n",
       "      <th>pickup_hour</th>\n",
       "      <th>pickup_month</th>\n",
       "      <th>pickup_year</th>\n",
       "      <th>dist</th>\n",
       "    </tr>\n",
       "  </thead>\n",
       "  <tbody>\n",
       "    <tr>\n",
       "      <th>0</th>\n",
       "      <td>1</td>\n",
       "      <td>13</td>\n",
       "      <td>01</td>\n",
       "      <td>2015</td>\n",
       "      <td>2.323259</td>\n",
       "    </tr>\n",
       "    <tr>\n",
       "      <th>1</th>\n",
       "      <td>1</td>\n",
       "      <td>13</td>\n",
       "      <td>01</td>\n",
       "      <td>2015</td>\n",
       "      <td>2.425353</td>\n",
       "    </tr>\n",
       "    <tr>\n",
       "      <th>2</th>\n",
       "      <td>1</td>\n",
       "      <td>11</td>\n",
       "      <td>10</td>\n",
       "      <td>2011</td>\n",
       "      <td>0.618628</td>\n",
       "    </tr>\n",
       "    <tr>\n",
       "      <th>3</th>\n",
       "      <td>1</td>\n",
       "      <td>21</td>\n",
       "      <td>12</td>\n",
       "      <td>2012</td>\n",
       "      <td>1.961033</td>\n",
       "    </tr>\n",
       "    <tr>\n",
       "      <th>4</th>\n",
       "      <td>1</td>\n",
       "      <td>21</td>\n",
       "      <td>12</td>\n",
       "      <td>2012</td>\n",
       "      <td>5.387301</td>\n",
       "    </tr>\n",
       "  </tbody>\n",
       "</table>\n",
       "</div>"
      ],
      "text/plain": [
       "   passenger_count pickup_hour pickup_month pickup_year      dist\n",
       "0                1          13           01        2015  2.323259\n",
       "1                1          13           01        2015  2.425353\n",
       "2                1          11           10        2011  0.618628\n",
       "3                1          21           12        2012  1.961033\n",
       "4                1          21           12        2012  5.387301"
      ]
     },
     "execution_count": 66,
     "metadata": {},
     "output_type": "execute_result"
    }
   ],
   "source": [
    "test.head()"
   ]
  },
  {
   "cell_type": "markdown",
   "metadata": {},
   "source": [
    "# Sampling"
   ]
  },
  {
   "cell_type": "code",
   "execution_count": 67,
   "metadata": {},
   "outputs": [],
   "source": [
    "from sklearn.model_selection import train_test_split"
   ]
  },
  {
   "cell_type": "code",
   "execution_count": 68,
   "metadata": {},
   "outputs": [],
   "source": [
    "X = df.values[:,:-1]\n",
    "Y = df.values[:,-1]"
   ]
  },
  {
   "cell_type": "code",
   "execution_count": 69,
   "metadata": {},
   "outputs": [
    {
     "name": "stderr",
     "output_type": "stream",
     "text": [
      "C:\\Users\\Ajay\\Anaconda3\\lib\\site-packages\\sklearn\\model_selection\\_split.py:2026: FutureWarning: From version 0.21, test_size will always complement train_size unless both are specified.\n",
      "  FutureWarning)\n"
     ]
    }
   ],
   "source": [
    "X_train,X_test,y_train,y_test = train_test_split(X,Y,train_size = 0.8,random_state = 1000)"
   ]
  },
  {
   "cell_type": "markdown",
   "metadata": {},
   "source": [
    "# Model Selection"
   ]
  },
  {
   "cell_type": "code",
   "execution_count": 70,
   "metadata": {},
   "outputs": [],
   "source": [
    "# import Error metric\n",
    "from sklearn import metrics\n",
    "def mape(y_test,pred):\n",
    "    return np.mean(np.abs((y_test-pred)/y_test))\n",
    "\n",
    "def rms(ytrue,yhat):\n",
    "    mse = metrics.mean_squared_error(ytrue,yhat)\n",
    "    return np.sqrt(mse)"
   ]
  },
  {
   "cell_type": "markdown",
   "metadata": {},
   "source": [
    "## Linear regression"
   ]
  },
  {
   "cell_type": "code",
   "execution_count": 71,
   "metadata": {},
   "outputs": [],
   "source": [
    "from sklearn.linear_model import LinearRegression"
   ]
  },
  {
   "cell_type": "code",
   "execution_count": 72,
   "metadata": {},
   "outputs": [],
   "source": [
    "model_lm = LinearRegression()"
   ]
  },
  {
   "cell_type": "code",
   "execution_count": 73,
   "metadata": {},
   "outputs": [
    {
     "data": {
      "text/plain": [
       "LinearRegression(copy_X=True, fit_intercept=True, n_jobs=1, normalize=False)"
      ]
     },
     "execution_count": 73,
     "metadata": {},
     "output_type": "execute_result"
    }
   ],
   "source": [
    "model_lm.fit(X_train,y_train)"
   ]
  },
  {
   "cell_type": "code",
   "execution_count": 74,
   "metadata": {},
   "outputs": [],
   "source": [
    "pred_lm = model_lm.predict(X_test)"
   ]
  },
  {
   "cell_type": "code",
   "execution_count": 75,
   "metadata": {},
   "outputs": [
    {
     "data": {
      "text/plain": [
       "<matplotlib.collections.PathCollection at 0x16b413575c0>"
      ]
     },
     "execution_count": 75,
     "metadata": {},
     "output_type": "execute_result"
    },
    {
     "data": {
      "image/png": "[encoded data removed]",
      "text/plain": [
       "<Figure size 432x288 with 1 Axes>"
      ]
     },
     "metadata": {},
     "output_type": "display_data"
    }
   ],
   "source": [
    "plt.scatter(y_test,pred_lm)"
   ]
  },
  {
   "cell_type": "code",
   "execution_count": 76,
   "metadata": {},
   "outputs": [
    {
     "name": "stderr",
     "output_type": "stream",
     "text": [
      "C:\\Users\\Ajay\\Anaconda3\\lib\\site-packages\\matplotlib\\axes\\_axes.py:6462: UserWarning: The 'normed' kwarg is deprecated, and has been replaced by the 'density' kwarg.\n",
      "  warnings.warn(\"The 'normed' kwarg is deprecated, and has been \"\n"
     ]
    },
    {
     "data": {
      "text/plain": [
       "<matplotlib.axes._subplots.AxesSubplot at 0x16b40c46748>"
      ]
     },
     "execution_count": 76,
     "metadata": {},
     "output_type": "execute_result"
    },
    {
     "data": {
      "image/png": "[encoded data removed]",
      "text/plain": [
       "<Figure size 432x288 with 1 Axes>"
      ]
     },
     "metadata": {},
     "output_type": "display_data"
    }
   ],
   "source": [
    "sns.distplot(y_test-pred_lm)"
   ]
  },
  {
   "cell_type": "code",
   "execution_count": 77,
   "metadata": {},
   "outputs": [
    {
     "data": {
      "text/plain": [
       "2.2449881997022745"
      ]
     },
     "execution_count": 77,
     "metadata": {},
     "output_type": "execute_result"
    }
   ],
   "source": [
    "mse = metrics.mean_squared_error(y_test,pred_lm)\n",
    "rms_lm = np.sqrt(mse)\n",
    "rms_lm"
   ]
  },
  {
   "cell_type": "code",
   "execution_count": 78,
   "metadata": {},
   "outputs": [
    {
     "data": {
      "text/plain": [
       "0.18643852852394138"
      ]
     },
     "execution_count": 78,
     "metadata": {},
     "output_type": "execute_result"
    }
   ],
   "source": [
    "mape_lm = mape(y_test,pred_lm)\n",
    "mape_lm"
   ]
  },
  {
   "cell_type": "markdown",
   "metadata": {},
   "source": [
    "## Random forest"
   ]
  },
  {
   "cell_type": "code",
   "execution_count": 79,
   "metadata": {},
   "outputs": [],
   "source": [
    "from sklearn.ensemble import RandomForestRegressor\n",
    "model_rf = RandomForestRegressor(n_estimators = 500)"
   ]
  },
  {
   "cell_type": "code",
   "execution_count": 80,
   "metadata": {},
   "outputs": [
    {
     "data": {
      "text/plain": [
       "RandomForestRegressor(bootstrap=True, criterion='mse', max_depth=None,\n",
       "           max_features='auto', max_leaf_nodes=None,\n",
       "           min_impurity_decrease=0.0, min_impurity_split=None,\n",
       "           min_samples_leaf=1, min_samples_split=2,\n",
       "           min_weight_fraction_leaf=0.0, n_estimators=500, n_jobs=1,\n",
       "           oob_score=False, random_state=None, verbose=0, warm_start=False)"
      ]
     },
     "execution_count": 80,
     "metadata": {},
     "output_type": "execute_result"
    }
   ],
   "source": [
    "model_rf.fit(X_train,y_train)"
   ]
  },
  {
   "cell_type": "code",
   "execution_count": 81,
   "metadata": {},
   "outputs": [],
   "source": [
    "pred_rf = model_rf.predict(X_test)"
   ]
  },
  {
   "cell_type": "code",
   "execution_count": 82,
   "metadata": {},
   "outputs": [
    {
     "data": {
      "text/plain": [
       "<matplotlib.collections.PathCollection at 0x16b42638e48>"
      ]
     },
     "execution_count": 82,
     "metadata": {},
     "output_type": "execute_result"
    },
    {
     "data": {
      "image/png": "[encoded data removed]",
      "text/plain": [
       "<Figure size 432x288 with 1 Axes>"
      ]
     },
     "metadata": {},
     "output_type": "display_data"
    }
   ],
   "source": [
    "plt.scatter(y_test,pred_rf)"
   ]
  },
  {
   "cell_type": "code",
   "execution_count": 83,
   "metadata": {},
   "outputs": [
    {
     "name": "stderr",
     "output_type": "stream",
     "text": [
      "C:\\Users\\Ajay\\Anaconda3\\lib\\site-packages\\matplotlib\\axes\\_axes.py:6462: UserWarning: The 'normed' kwarg is deprecated, and has been replaced by the 'density' kwarg.\n",
      "  warnings.warn(\"The 'normed' kwarg is deprecated, and has been \"\n"
     ]
    },
    {
     "data": {
      "text/plain": [
       "<matplotlib.axes._subplots.AxesSubplot at 0x16b41630278>"
      ]
     },
     "execution_count": 83,
     "metadata": {},
     "output_type": "execute_result"
    },
    {
     "data": {
      "image/png": "[encoded data removed]",
      "text/plain": [
       "<Figure size 432x288 with 1 Axes>"
      ]
     },
     "metadata": {},
     "output_type": "display_data"
    }
   ],
   "source": [
    "sns.distplot((y_test - pred_rf))"
   ]
  },
  {
   "cell_type": "code",
   "execution_count": 84,
   "metadata": {},
   "outputs": [
    {
     "data": {
      "text/plain": [
       "2.257505219145407"
      ]
     },
     "execution_count": 84,
     "metadata": {},
     "output_type": "execute_result"
    }
   ],
   "source": [
    "mse = metrics.mean_squared_error(y_test,pred_rf)\n",
    "rms_rf = np.sqrt(mse)\n",
    "rms_rf"
   ]
  },
  {
   "cell_type": "code",
   "execution_count": 85,
   "metadata": {},
   "outputs": [
    {
     "data": {
      "text/plain": [
       "0.1918321967187326"
      ]
     },
     "execution_count": 85,
     "metadata": {},
     "output_type": "execute_result"
    }
   ],
   "source": [
    "mape_rf = mape(y_test,pred_rf)\n",
    "mape_rf"
   ]
  },
  {
   "cell_type": "markdown",
   "metadata": {},
   "source": [
    "## Boosting"
   ]
  },
  {
   "cell_type": "markdown",
   "metadata": {},
   "source": [
    "### Gradient boosting"
   ]
  },
  {
   "cell_type": "code",
   "execution_count": 86,
   "metadata": {},
   "outputs": [],
   "source": [
    "from sklearn.ensemble import GradientBoostingRegressor"
   ]
  },
  {
   "cell_type": "code",
   "execution_count": 87,
   "metadata": {},
   "outputs": [],
   "source": [
    "model_gbm = GradientBoostingRegressor(n_estimators = 120)"
   ]
  },
  {
   "cell_type": "code",
   "execution_count": 88,
   "metadata": {},
   "outputs": [
    {
     "data": {
      "text/plain": [
       "GradientBoostingRegressor(alpha=0.9, criterion='friedman_mse', init=None,\n",
       "             learning_rate=0.1, loss='ls', max_depth=3, max_features=None,\n",
       "             max_leaf_nodes=None, min_impurity_decrease=0.0,\n",
       "             min_impurity_split=None, min_samples_leaf=1,\n",
       "             min_samples_split=2, min_weight_fraction_leaf=0.0,\n",
       "             n_estimators=120, presort='auto', random_state=None,\n",
       "             subsample=1.0, verbose=0, warm_start=False)"
      ]
     },
     "execution_count": 88,
     "metadata": {},
     "output_type": "execute_result"
    }
   ],
   "source": [
    "model_gbm.fit(X_train,y_train)"
   ]
  },
  {
   "cell_type": "code",
   "execution_count": 89,
   "metadata": {},
   "outputs": [],
   "source": [
    "pred_gbm = model_gbm.predict(X_test)"
   ]
  },
  {
   "cell_type": "code",
   "execution_count": 90,
   "metadata": {},
   "outputs": [
    {
     "data": {
      "text/plain": [
       "<matplotlib.collections.PathCollection at 0x16b44b4bdd8>"
      ]
     },
     "execution_count": 90,
     "metadata": {},
     "output_type": "execute_result"
    },
    {
     "data": {
      "image/png": "[encoded data removed]",
      "text/plain": [
       "<Figure size 432x288 with 1 Axes>"
      ]
     },
     "metadata": {},
     "output_type": "display_data"
    }
   ],
   "source": [
    "plt.scatter(y_test,pred_gbm)"
   ]
  },
  {
   "cell_type": "code",
   "execution_count": 91,
   "metadata": {},
   "outputs": [
    {
     "name": "stderr",
     "output_type": "stream",
     "text": [
      "C:\\Users\\Ajay\\Anaconda3\\lib\\site-packages\\matplotlib\\axes\\_axes.py:6462: UserWarning: The 'normed' kwarg is deprecated, and has been replaced by the 'density' kwarg.\n",
      "  warnings.warn(\"The 'normed' kwarg is deprecated, and has been \"\n"
     ]
    },
    {
     "data": {
      "text/plain": [
       "<matplotlib.axes._subplots.AxesSubplot at 0x16b4273e400>"
      ]
     },
     "execution_count": 91,
     "metadata": {},
     "output_type": "execute_result"
    },
    {
     "data": {
      "image/png": "[encoded data removed]",
      "text/plain": [
       "<Figure size 432x288 with 1 Axes>"
      ]
     },
     "metadata": {},
     "output_type": "display_data"
    }
   ],
   "source": [
    "sns.distplot(y_test-pred_gbm)"
   ]
  },
  {
   "cell_type": "code",
   "execution_count": 92,
   "metadata": {},
   "outputs": [
    {
     "data": {
      "text/plain": [
       "2.1778772435289664"
      ]
     },
     "execution_count": 92,
     "metadata": {},
     "output_type": "execute_result"
    }
   ],
   "source": [
    "mse = metrics.mean_squared_error(y_test,pred_gbm)\n",
    "rms_gbm = np.sqrt(mse)\n",
    "rms_gbm"
   ]
  },
  {
   "cell_type": "code",
   "execution_count": 93,
   "metadata": {},
   "outputs": [
    {
     "data": {
      "text/plain": [
       "0.17863350711248496"
      ]
     },
     "execution_count": 93,
     "metadata": {},
     "output_type": "execute_result"
    }
   ],
   "source": [
    "mape_gbm = mape(y_test,pred_gbm)\n",
    "mape_gbm"
   ]
  },
  {
   "cell_type": "markdown",
   "metadata": {},
   "source": [
    "### XGBoost"
   ]
  },
  {
   "cell_type": "code",
   "execution_count": 94,
   "metadata": {},
   "outputs": [],
   "source": [
    "from xgboost import XGBRegressor"
   ]
  },
  {
   "cell_type": "code",
   "execution_count": 95,
   "metadata": {},
   "outputs": [],
   "source": [
    "model_xgb = XGBRegressor()"
   ]
  },
  {
   "cell_type": "code",
   "execution_count": 96,
   "metadata": {},
   "outputs": [
    {
     "data": {
      "text/plain": [
       "XGBRegressor(base_score=0.5, booster='gbtree', colsample_bylevel=1,\n",
       "       colsample_bytree=1, gamma=0, importance_type='gain',\n",
       "       learning_rate=0.1, max_delta_step=0, max_depth=3,\n",
       "       min_child_weight=1, missing=None, n_estimators=100, n_jobs=1,\n",
       "       nthread=None, objective='reg:linear', random_state=0, reg_alpha=0,\n",
       "       reg_lambda=1, scale_pos_weight=1, seed=None, silent=True,\n",
       "       subsample=1)"
      ]
     },
     "execution_count": 96,
     "metadata": {},
     "output_type": "execute_result"
    }
   ],
   "source": [
    "model_xgb.fit(X_train,y_train)"
   ]
  },
  {
   "cell_type": "code",
   "execution_count": 97,
   "metadata": {},
   "outputs": [],
   "source": [
    "pred_xgb = model_xgb.predict(X_test)"
   ]
  },
  {
   "cell_type": "code",
   "execution_count": 98,
   "metadata": {},
   "outputs": [
    {
     "data": {
      "text/plain": [
       "<matplotlib.collections.PathCollection at 0x16b44cd2630>"
      ]
     },
     "execution_count": 98,
     "metadata": {},
     "output_type": "execute_result"
    },
    {
     "data": {
      "image/png": "[encoded data removed]",
      "text/plain": [
       "<Figure size 432x288 with 1 Axes>"
      ]
     },
     "metadata": {},
     "output_type": "display_data"
    }
   ],
   "source": [
    "plt.scatter(y_test,pred_xgb)"
   ]
  },
  {
   "cell_type": "code",
   "execution_count": 99,
   "metadata": {},
   "outputs": [
    {
     "name": "stderr",
     "output_type": "stream",
     "text": [
      "C:\\Users\\Ajay\\Anaconda3\\lib\\site-packages\\matplotlib\\axes\\_axes.py:6462: UserWarning: The 'normed' kwarg is deprecated, and has been replaced by the 'density' kwarg.\n",
      "  warnings.warn(\"The 'normed' kwarg is deprecated, and has been \"\n"
     ]
    },
    {
     "data": {
      "text/plain": [
       "<matplotlib.axes._subplots.AxesSubplot at 0x16b718a8b70>"
      ]
     },
     "execution_count": 99,
     "metadata": {},
     "output_type": "execute_result"
    },
    {
     "data": {
      "image/png": "[encoded data removed]",
      "text/plain": [
       "<Figure size 432x288 with 1 Axes>"
      ]
     },
     "metadata": {},
     "output_type": "display_data"
    }
   ],
   "source": [
    "sns.distplot(y_test-pred_xgb)"
   ]
  },
  {
   "cell_type": "code",
   "execution_count": 100,
   "metadata": {},
   "outputs": [
    {
     "data": {
      "text/plain": [
       "2.1734134326784598"
      ]
     },
     "execution_count": 100,
     "metadata": {},
     "output_type": "execute_result"
    }
   ],
   "source": [
    "rms_xgb = rms(y_test,pred_xgb)\n",
    "rms_xgb"
   ]
  },
  {
   "cell_type": "code",
   "execution_count": 101,
   "metadata": {},
   "outputs": [
    {
     "data": {
      "text/plain": [
       "0.17839489762020352"
      ]
     },
     "execution_count": 101,
     "metadata": {},
     "output_type": "execute_result"
    }
   ],
   "source": [
    "mape_xgb = mape(y_test,pred_xgb)\n",
    "mape_xgb"
   ]
  },
  {
   "cell_type": "code",
   "execution_count": 102,
   "metadata": {},
   "outputs": [
    {
     "data": {
      "text/plain": [
       "(2.1734134326784598, 2.1778772435289664, 2.257505219145407, 2.2449881997022745)"
      ]
     },
     "execution_count": 102,
     "metadata": {},
     "output_type": "execute_result"
    }
   ],
   "source": [
    "rms_xgb,rms_gbm,rms_rf,rms_lm"
   ]
  },
  {
   "cell_type": "code",
   "execution_count": 103,
   "metadata": {},
   "outputs": [
    {
     "data": {
      "text/plain": [
       "(0.17839489762020352, 0.17863350711248496, 0.1918321967187326)"
      ]
     },
     "execution_count": 103,
     "metadata": {},
     "output_type": "execute_result"
    }
   ],
   "source": [
    "mape_xgb,mape_gbm,mape_rf"
   ]
  },
  {
   "cell_type": "markdown",
   "metadata": {},
   "source": [
    "## Prediction on test set\n",
    "As GBM and XGBoost produces better results than other models. We will train whole train data and predict on test data"
   ]
  },
  {
   "cell_type": "markdown",
   "metadata": {},
   "source": [
    "## Apply XGBoost"
   ]
  },
  {
   "cell_type": "code",
   "execution_count": 104,
   "metadata": {},
   "outputs": [],
   "source": [
    "model_xgb2 = XGBRegressor()"
   ]
  },
  {
   "cell_type": "code",
   "execution_count": 105,
   "metadata": {},
   "outputs": [
    {
     "name": "stderr",
     "output_type": "stream",
     "text": [
      "C:\\Users\\Ajay\\Anaconda3\\lib\\site-packages\\xgboost\\core.py:614: UserWarning: Use subset (sliced data) of np.ndarray is not recommended because it will generate extra copies and increase memory consumption\n",
      "  \"because it will generate extra copies and increase memory consumption\")\n"
     ]
    },
    {
     "data": {
      "text/plain": [
       "XGBRegressor(base_score=0.5, booster='gbtree', colsample_bylevel=1,\n",
       "       colsample_bytree=1, gamma=0, importance_type='gain',\n",
       "       learning_rate=0.1, max_delta_step=0, max_depth=3,\n",
       "       min_child_weight=1, missing=None, n_estimators=100, n_jobs=1,\n",
       "       nthread=None, objective='reg:linear', random_state=0, reg_alpha=0,\n",
       "       reg_lambda=1, scale_pos_weight=1, seed=None, silent=True,\n",
       "       subsample=1)"
      ]
     },
     "execution_count": 105,
     "metadata": {},
     "output_type": "execute_result"
    }
   ],
   "source": [
    "model_xgb2.fit(X,Y)"
   ]
  },
  {
   "cell_type": "code",
   "execution_count": 106,
   "metadata": {},
   "outputs": [],
   "source": [
    "pred_xgb2 = model_xgb2.predict(test.values)"
   ]
  },
  {
   "cell_type": "code",
   "execution_count": 107,
   "metadata": {},
   "outputs": [],
   "source": [
    "pred_results_xgb2 = pd.DataFrame({\"pickup_datetime\":test_pickup_datetime,\"prediction\" : pred_xgb2})"
   ]
  },
  {
   "cell_type": "code",
   "execution_count": 108,
   "metadata": {},
   "outputs": [],
   "source": [
    "pred_results_xgb2.to_csv(\"predictions_xgboost.csv\",index=False)"
   ]
  },
  {
   "cell_type": "markdown",
   "metadata": {},
   "source": [
    "## Apply GBM"
   ]
  },
  {
   "cell_type": "code",
   "execution_count": 109,
   "metadata": {},
   "outputs": [],
   "source": [
    "model_gbm2 = GradientBoostingRegressor(n_estimators = 120)"
   ]
  },
  {
   "cell_type": "code",
   "execution_count": 110,
   "metadata": {},
   "outputs": [
    {
     "data": {
      "text/plain": [
       "GradientBoostingRegressor(alpha=0.9, criterion='friedman_mse', init=None,\n",
       "             learning_rate=0.1, loss='ls', max_depth=3, max_features=None,\n",
       "             max_leaf_nodes=None, min_impurity_decrease=0.0,\n",
       "             min_impurity_split=None, min_samples_leaf=1,\n",
       "             min_samples_split=2, min_weight_fraction_leaf=0.0,\n",
       "             n_estimators=120, presort='auto', random_state=None,\n",
       "             subsample=1.0, verbose=0, warm_start=False)"
      ]
     },
     "execution_count": 110,
     "metadata": {},
     "output_type": "execute_result"
    }
   ],
   "source": [
    "model_gbm2.fit(X,Y)"
   ]
  },
  {
   "cell_type": "code",
   "execution_count": 111,
   "metadata": {},
   "outputs": [],
   "source": [
    "pred_gbm2 = model_gbm2.predict(test.values)"
   ]
  },
  {
   "cell_type": "code",
   "execution_count": 112,
   "metadata": {},
   "outputs": [],
   "source": [
    "pred_results_gbm2 = pd.DataFrame({\"pickup_datetime\":test_pickup_datetime,\"prediction\" : pred_gbm2})"
   ]
  },
  {
   "cell_type": "code",
   "execution_count": 113,
   "metadata": {},
   "outputs": [],
   "source": [
    "pred_results_gbm2.to_csv(\"predictions_gbm.csv\",index = False)"
   ]
  }
 ],
 "metadata": {
  "kernelspec": {
   "display_name": "Python 3",
   "language": "python",
   "name": "python3"
  },
  "language_info": {
   "codemirror_mode": {
    "name": "ipython",
    "version": 3
   },
   "file_extension": ".py",
   "mimetype": "text/x-python",
   "name": "python",
   "nbconvert_exporter": "python",
   "pygments_lexer": "ipython3",
   "version": "3.6.5"
  }
 },
 "nbformat": 4,
 "nbformat_minor": 2
}
